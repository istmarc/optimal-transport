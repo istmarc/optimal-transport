{
 "cells": [
  {
   "cell_type": "markdown",
   "id": "2bbbd918",
   "metadata": {},
   "source": [
    "## Discrete optimal transport as a linear program"
   ]
  },
  {
   "cell_type": "markdown",
   "id": "ad908e11",
   "metadata": {},
   "source": [
    "**Discrete probability measures**"
   ]
  },
  {
   "cell_type": "markdown",
   "id": "a8b25bc1",
   "metadata": {},
   "source": [
    "Let $X$ and $Y$ be two discrete measures in the probability spaces $(\\Omega_{X}, F_{X}, \\mu)$ and $(\\Omega_{Y}, F_{Y}, \\nu)$.\n",
    "\n",
    "<font color=\"blue\">$$\\mu(x) = \\sum_{z \\in \\Omega_{X}} \\mu(z) I_{x}(z)$$</color>\n",
    "\n",
    "The measure of the set x is the sum of the measures of all the $z \\in \\Omega_{X}$ such that $z \\in x$.\n",
    "\n",
    "similarly\n",
    "\n",
    "<font color=\"blue\">$$\\nu(y) = \\sum_{z \\in \\Omega_{Y}} \\nu(z) I_{y}(z)$$</font>\n",
    "\n",
    "with\n",
    "\n",
    "<font color=\"blue\">$$\\sum_{x \\in \\Omega_{X}} \\mu(x) = 1$$</font>\n",
    "\n",
    "and\n",
    "\n",
    "<font color=\"blue\">$$\\sum_{y \\in \\Omega_{Y}} \\nu(y) = 1$$</font>"
   ]
  },
  {
   "cell_type": "markdown",
   "id": "81b0210a",
   "metadata": {},
   "source": [
    "**Optimal transport for discrete distributions**"
   ]
  },
  {
   "cell_type": "markdown",
   "id": "eb5a9570",
   "metadata": {},
   "source": [
    "the optimal transport problem for discrete distributions is\n",
    "<font color=\"blue\">\n",
    "$$\n",
    "\\begin{align}\n",
    "\\text{min} \\big\\{ \\sum_{X\\text{x}Y}c_{T}(x,y) \\gamma(x,y) : \\gamma(x,y) \\in \\Gamma(x,y) \\big\\}\n",
    "\\end{align}\n",
    "$$\n",
    "</font>"
   ]
  },
  {
   "cell_type": "markdown",
   "id": "238ba8a0",
   "metadata": {},
   "source": [
    "If $X$ is defined in $\\Omega_{X} = [1, 2, \\ldots N]$ and $Y$ is defined in $\\Omega_{Y} = [1,2, \\ldots, M]$. We note $\\mu_i$ the mass of i in $(\\Omega_{X}, F_{X}, \\mu)$ and $\\nu_{i}$ the mass of i in $(\\Omega_{Y}, F_{Y}, \\nu)$.\n",
    "\n",
    "The optimal transport problem from $X$ to $Y$ is\n",
    "\n",
    "$$\n",
    "\\begin{align}\n",
    "\\text{min} \\big\\{ \\sum_{1 \\leq i \\leq n, 1 \\leq j \\leq m}c_{i, j} \\gamma_{i,j} : \\gamma \\in \\Gamma(X,Y) \\big\\}\n",
    "\\end{align}\n",
    "$$\n",
    "\n",
    "This can be rewritten as\n",
    "\n",
    "$$\n",
    "\\begin{align}\n",
    "\\text{min} \\big\\{ \\sum_{1 \\leq i \\leq n, 1 \\leq j \\leq m}(C \\circ \\gamma)_{i,j} \\big\\}\n",
    "\\end{align}\n",
    "$$\n",
    "\n",
    "where $\\circ$ is the hadamard product."
   ]
  },
  {
   "cell_type": "markdown",
   "id": "5610379e",
   "metadata": {},
   "source": [
    "Let note vec the operation of vectorizing a matrix by stacking its row vectors.\n",
    "If vec$(C)$ is the vectorization of $C$ and vec$(\\gamma)$ is the vectorization of $\\gamma$ then we have\n",
    "\n",
    "$$\n",
    "\\begin{align}\n",
    "\\text{min} \\big\\{ < \\text{vec}(C), \\text{vec}(\\gamma)> : \\Sigma_{j=1}^{n}\\gamma_{i,j} = \\mu_{i}\\text{, and } \\Sigma_{i=1}^{n}\\gamma_{i,j} = \\nu_{j} \\big\\}\n",
    "\\end{align}\n",
    "$$\n",
    "\n",
    "where $<,>$ is the dot product."
   ]
  },
  {
   "cell_type": "markdown",
   "id": "b82b4182",
   "metadata": {},
   "source": [
    "let $z$ = vec$(\\gamma)$ and $c$ = vec$(C)$\n",
    "\n",
    "$$\n",
    "\\begin{align}\n",
    "\\text{min} \\big\\{ <c, z> : \\Sigma_{j=1}^{m}\\gamma_{i,j} = \\mu_{i}\\text{, and } \\Sigma_{i=1}^{n}\\gamma_{i,j} = \\nu_{j} \\big\\}\n",
    "\\end{align}\n",
    "$$"
   ]
  },
  {
   "cell_type": "markdown",
   "id": "b0d1f933",
   "metadata": {},
   "source": [
    "$$\n",
    "\\begin{array}{cc}\n",
    "(I_{M} \\otimes 1_{1\\text{x}N})z & = &\n",
    "\\left[\\begin{array}{c c c c c}\n",
    "[1 \\ldots 1] & &              & & & \\\\\n",
    "             & \\ddots              & & & \\\\\n",
    "             & & [1 \\ldots 1] & & & \\\\\n",
    "             & &              & \\ddots & \\\\\n",
    "             & &              & & [1 \\ldots 1] \\\\\n",
    "\\end{array}\\right]\n",
    "\\left[\\begin{array}{c}\n",
    "z_{1,1} \\\\\n",
    "\\vdots  \\\\\n",
    "z_{1,N} \\\\\n",
    "\\vdots  \\\\\n",
    "z_{i,1} \\\\\n",
    "\\vdots  \\\\\n",
    "z_{i,N} \\\\\n",
    "\\vdots  \\\\\n",
    "z_{M,1} \\\\\n",
    "\\vdots  \\\\\n",
    "z_{M,N} \\\\\n",
    "\\end{array}\\right]\\\\\n",
    " & = & \\left[\\begin{array}{c}\n",
    "          \\Sigma_{j=1}^{N}z_{1,j}\\\\\n",
    "          \\vdots \\\\\n",
    "          \\Sigma_{j=1}^{N}z_{i,j}\\\\\n",
    "          \\vdots \\\\\n",
    "          \\Sigma_{j=1}^{N}z_{M,j}\\\\\n",
    "       \\end{array}\\right]\\\\\n",
    " & = & \\mu\\\\\n",
    "\\end{array}\n",
    "$$"
   ]
  },
  {
   "cell_type": "markdown",
   "id": "19ca8778",
   "metadata": {},
   "source": [
    "where $\\otimes$ is the kronecker product, and"
   ]
  },
  {
   "cell_type": "markdown",
   "id": "bb697fdf",
   "metadata": {},
   "source": [
    "$$\n",
    "\\begin{array}{cc}\n",
    "(1_{1\\text{x}M} \\otimes I_{N})z & = &\n",
    "\\left[\\begin{array}{c c c c c}\n",
    "\\left[\\begin{array}{ccc}\n",
    "1 &        &  \\\\\n",
    "  & \\ddots & \\\\\n",
    "  &        & 1\\\\\n",
    "\\end{array}\\right]\n",
    "& \\cdots &\n",
    "\\left[\\begin{array}{ccc}\n",
    "1 &        &  \\\\\n",
    "  & \\ddots & \\\\\n",
    "  &        & 1\\\\\n",
    "\\end{array}\\right]\n",
    "& \\cdots &\n",
    "\\left[\\begin{array}{ccc}\n",
    "1 &        &  \\\\\n",
    "  & \\ddots & \\\\\n",
    "  &        & 1\\\\\n",
    "\\end{array}\\right]\n",
    "\\end{array}\\right]\n",
    "\\left[\\begin{array}{c}\n",
    "z_{1,1} \\\\\n",
    "\\vdots  \\\\\n",
    "z_{1,N} \\\\\n",
    "\\vdots  \\\\\n",
    "z_{i,1} \\\\\n",
    "\\vdots  \\\\\n",
    "z_{i,N} \\\\\n",
    "\\vdots  \\\\\n",
    "z_{M,1} \\\\\n",
    "\\vdots  \\\\\n",
    "z_{M,N} \\\\\n",
    "\\end{array}\\right]\\\\\n",
    " & = & \\left[\\begin{array}{c}\n",
    "          \\Sigma_{i=1}^{N}z_{i,1}\\\\\n",
    "          \\vdots \\\\\n",
    "          \\Sigma_{i=1}^{N}z_{i,j}\\\\\n",
    "          \\vdots \\\\\n",
    "          \\Sigma_{i=1}^{N}z_{i,M}\\\\\n",
    "       \\end{array}\\right]\\\\\n",
    " & = & \\nu\\\\\n",
    "\\end{array}\n",
    "$$"
   ]
  },
  {
   "cell_type": "markdown",
   "id": "b87833e3",
   "metadata": {},
   "source": [
    "So we have\n",
    "\n",
    "$$(I_{M} \\otimes 1_{1\\text{x}N})z = \\mu$$\n",
    "\n",
    "and\n",
    "\n",
    "$$(1_{1\\text{x}M} \\otimes I_{N})z = \\nu$$"
   ]
  },
  {
   "cell_type": "markdown",
   "id": "028ba300",
   "metadata": {},
   "source": [
    "In matrix form, we have\n",
    "$$\n",
    "\\begin{array}{ccc}\n",
    "\\left[\n",
    "\\begin{array}{c}\n",
    "I_{m} \\otimes 1_{1\\text{x}n}\\\\\n",
    "1_{1\\text{x}m} \\otimes I_{n}\n",
    "\\end{array}\n",
    "\\right]\n",
    "z\n",
    "& = &\n",
    "\\left[\n",
    "    \\begin{array}{c}\n",
    "        \\mu\\\\\n",
    "        \\nu\n",
    "    \\end{array}\n",
    "\\right]\n",
    "\\end{array}\n",
    "$$"
   ]
  },
  {
   "cell_type": "markdown",
   "id": "e9416571",
   "metadata": {},
   "source": [
    "Let's note $A = \\left[\n",
    "\\begin{array}{c}\n",
    "I_{m} \\otimes 1_{1\\text{x}n}\\\\\n",
    "1_{1\\text{x}m} \\otimes I_{n}\n",
    "\\end{array}\n",
    "\\right]$\n",
    "and $b=\\left[\\begin{array}{c}\\mu\\\\ \\nu \\end{array}\\right]$"
   ]
  },
  {
   "cell_type": "markdown",
   "id": "3156413f",
   "metadata": {},
   "source": [
    "The equation above becomes $Az=b$"
   ]
  },
  {
   "cell_type": "markdown",
   "id": "cc0fdc3c",
   "metadata": {},
   "source": [
    "Thereforce the following optimal transport problem\n",
    "$$\n",
    "\\begin{align}\n",
    "\\text{min} \\big\\{ <c, z> : z \\geq 0, Az = b\\big\\}\n",
    "\\end{align}\n",
    "$$"
   ]
  },
  {
   "cell_type": "markdown",
   "id": "4271eb71",
   "metadata": {},
   "source": [
    "can be reduced to a linear program\n",
    "<font color=\"blue\">\n",
    "$$\n",
    "\\begin{align}\n",
    "\\text{min} \\big\\{ <c, z> : z \\geq 0, Az \\leq b\\big\\}\n",
    "\\end{align}\n",
    "$$\n",
    "</font>"
   ]
  },
  {
   "cell_type": "markdown",
   "id": "ab182c7d-cf0b-4708-a6b2-e23a07dee742",
   "metadata": {},
   "source": [
    "### Importing libraries"
   ]
  },
  {
   "cell_type": "code",
   "execution_count": 1,
   "id": "50a88afe",
   "metadata": {},
   "outputs": [],
   "source": [
    "import numpy as np\n",
    "from scipy import stats\n",
    "import matplotlib.pyplot as plt\n",
    "plt.rcParams['text.usetex'] = True\n",
    "plt.style.use(\"science\")\n",
    "import cvxpy as cp\n",
    "import math\n",
    "import matplotlib\n",
    "from matplotlib.gridspec import GridSpec"
   ]
  },
  {
   "cell_type": "markdown",
   "id": "9cf46a11",
   "metadata": {},
   "source": [
    "### Generate a problem"
   ]
  },
  {
   "cell_type": "markdown",
   "id": "7623b93b",
   "metadata": {},
   "source": [
    "**Generate n samples from $N(0,1)$**"
   ]
  },
  {
   "cell_type": "code",
   "execution_count": 2,
   "id": "c85a9b91",
   "metadata": {},
   "outputs": [],
   "source": [
    "n = 1000\n",
    "x = np.random.randn(n)\n",
    "x.sort()\n",
    "fx = stats.norm.pdf(x)"
   ]
  },
  {
   "cell_type": "markdown",
   "id": "e9dc885c",
   "metadata": {},
   "source": [
    "**Generate m samples from $N(0, \\sqrt(2))$**"
   ]
  },
  {
   "cell_type": "code",
   "execution_count": 3,
   "id": "f3426a3e",
   "metadata": {},
   "outputs": [],
   "source": [
    "m = 1000\n",
    "y = 2. * np.random.randn(m)\n",
    "y.sort()\n",
    "fy = stats.norm.pdf(y, 0., 2.)"
   ]
  },
  {
   "cell_type": "markdown",
   "id": "ae256d23",
   "metadata": {},
   "source": [
    "**Distributions of $X$ and $Y$**"
   ]
  },
  {
   "cell_type": "code",
   "execution_count": 4,
   "id": "e54b2917",
   "metadata": {},
   "outputs": [],
   "source": [
    "def plot_dist(x, fx, y, fy):\n",
    "    fig, axis = plt.subplots()\n",
    "    axis.plot(x, fx, color = \"darkblue\", label = \"$x$\")\n",
    "    axis.plot(y, fy, color = \"maroon\", label = \"$y$\")\n",
    "    plt.legend()\n",
    "    plt.show()"
   ]
  },
  {
   "cell_type": "code",
   "execution_count": 5,
   "id": "3dd25684-1af1-47bc-b28d-a98d9ff79838",
   "metadata": {},
   "outputs": [
    {
     "data": {
      "image/png": "[encoded data removed]",
      "text/plain": [
       "<Figure size 350x262.5 with 1 Axes>"
      ]
     },
     "metadata": {},
     "output_type": "display_data"
    }
   ],
   "source": [
    "plot_dist(x, fx, y, fy)"
   ]
  },
  {
   "cell_type": "markdown",
   "id": "826b7d0b",
   "metadata": {},
   "source": [
    "**Discretize $x \\sim X$ and $y \\sim Y$**"
   ]
  },
  {
   "cell_type": "code",
   "execution_count": 6,
   "id": "1ac74da2",
   "metadata": {},
   "outputs": [],
   "source": [
    "# Discretize x using the histogram\n",
    "# returns the normalized histogram and the lower limits of the intervals\n",
    "def discretize(x, nbins, normalize = True):\n",
    "    freq, inter = np.histogram(x, nbins)\n",
    "    inter = inter[:-1]\n",
    "    freq = freq.astype(np.float32)\n",
    "    width = inter[1] - inter[0]\n",
    "    n = x.size\n",
    "    if normalize:\n",
    "        freq /= (width * n)\n",
    "    return freq, inter"
   ]
  },
  {
   "cell_type": "code",
   "execution_count": 7,
   "id": "b9ebe742",
   "metadata": {},
   "outputs": [],
   "source": [
    "N = 20\n",
    "M = 20"
   ]
  },
  {
   "cell_type": "code",
   "execution_count": 8,
   "id": "d31f9e20",
   "metadata": {},
   "outputs": [
    {
     "data": {
      "image/png": "[encoded data removed]",
      "text/plain": [
       "<Figure size 350x262.5 with 1 Axes>"
      ]
     },
     "metadata": {},
     "output_type": "display_data"
    }
   ],
   "source": [
    "freq_x, inter_x = discretize(x, N)\n",
    "plt.bar(inter_x, freq_x, color = \"silver\")\n",
    "plt.plot(x, fx, color = \"darkblue\")\n",
    "plt.show()"
   ]
  },
  {
   "cell_type": "code",
   "execution_count": 9,
   "id": "ce59492d",
   "metadata": {},
   "outputs": [
    {
     "data": {
      "image/png": "[encoded data removed]",
      "text/plain": [
       "<Figure size 350x262.5 with 1 Axes>"
      ]
     },
     "metadata": {},
     "output_type": "display_data"
    }
   ],
   "source": [
    "freq_y, inter_y = discretize(y, M)\n",
    "plt.bar(inter_y, freq_y, color = \"silver\")\n",
    "plt.plot(y, fy, color = \"maroon\")\n",
    "plt.show()"
   ]
  },
  {
   "cell_type": "markdown",
   "id": "c34514ff",
   "metadata": {},
   "source": [
    "**Distributions of $X$ and $Y$**"
   ]
  },
  {
   "cell_type": "code",
   "execution_count": 10,
   "id": "d8f163e4",
   "metadata": {},
   "outputs": [
    {
     "data": {
      "image/png": "[encoded data removed]",
      "text/plain": [
       "<Figure size 350x262.5 with 1 Axes>"
      ]
     },
     "metadata": {},
     "output_type": "display_data"
    }
   ],
   "source": [
    "plt.bar(inter_x, freq_x, color = \"darkblue\")\n",
    "plt.bar(inter_y, freq_y, color = \"maroon\", alpha = 0.5)\n",
    "plt.show()"
   ]
  },
  {
   "cell_type": "markdown",
   "id": "257c3201",
   "metadata": {},
   "source": [
    "### Solving the OT problem"
   ]
  },
  {
   "cell_type": "markdown",
   "id": "7c04a654",
   "metadata": {},
   "source": [
    "let $\\mu$ be the distribution (histogram) of $X$ and $\\nu$ be the distribution (histogram) of $Y$"
   ]
  },
  {
   "cell_type": "code",
   "execution_count": 11,
   "id": "052ded38",
   "metadata": {},
   "outputs": [],
   "source": [
    "mu = freq_x\n",
    "nu = freq_y"
   ]
  },
  {
   "cell_type": "markdown",
   "id": "fda3f5a1",
   "metadata": {},
   "source": [
    "**Forming the matrix b**"
   ]
  },
  {
   "cell_type": "code",
   "execution_count": 12,
   "id": "5c52c062",
   "metadata": {},
   "outputs": [
    {
     "data": {
      "text/plain": [
       "(40,)"
      ]
     },
     "execution_count": 12,
     "metadata": {},
     "output_type": "execute_result"
    }
   ],
   "source": [
    "b = np.concatenate((nu, mu))\n",
    "b.shape"
   ]
  },
  {
   "cell_type": "markdown",
   "id": "28950d50",
   "metadata": {},
   "source": [
    "**Forming the matrix A**"
   ]
  },
  {
   "cell_type": "code",
   "execution_count": 13,
   "id": "4a5720d2",
   "metadata": {},
   "outputs": [
    {
     "data": {
      "text/plain": [
       "(20, 400)"
      ]
     },
     "execution_count": 13,
     "metadata": {},
     "output_type": "execute_result"
    }
   ],
   "source": [
    "Amu = np.kron(np.identity(M), np.ones(N))\n",
    "Amu.shape"
   ]
  },
  {
   "cell_type": "code",
   "execution_count": 14,
   "id": "86f935c9",
   "metadata": {},
   "outputs": [
    {
     "data": {
      "text/plain": [
       "(20, 400)"
      ]
     },
     "execution_count": 14,
     "metadata": {},
     "output_type": "execute_result"
    }
   ],
   "source": [
    "Anu = np.kron(np.ones(M), np.identity(N))\n",
    "Anu.shape"
   ]
  },
  {
   "cell_type": "code",
   "execution_count": 15,
   "id": "4d861ac1",
   "metadata": {},
   "outputs": [
    {
     "data": {
      "text/plain": [
       "(40, 400)"
      ]
     },
     "execution_count": 15,
     "metadata": {},
     "output_type": "execute_result"
    }
   ],
   "source": [
    "A = np.concatenate((Amu, Anu), 0)\n",
    "A.shape"
   ]
  },
  {
   "cell_type": "markdown",
   "id": "4a4d7b28",
   "metadata": {},
   "source": [
    "**Solving the linear programming problem using CVXPY**"
   ]
  },
  {
   "cell_type": "markdown",
   "id": "7b17990c",
   "metadata": {},
   "source": [
    "The variable z is the vectorized transportation matrix $\\gamma$."
   ]
  },
  {
   "cell_type": "code",
   "execution_count": 16,
   "id": "bd9ba49e",
   "metadata": {},
   "outputs": [],
   "source": [
    "z = cp.Variable(M * N)"
   ]
  },
  {
   "cell_type": "markdown",
   "id": "18c8a017",
   "metadata": {},
   "source": [
    "The loss function is the mean squared error"
   ]
  },
  {
   "cell_type": "code",
   "execution_count": 17,
   "id": "5c9cead0",
   "metadata": {},
   "outputs": [],
   "source": [
    "obj = cp.Minimize(cp.sum_squares(A @ z - b))"
   ]
  },
  {
   "cell_type": "markdown",
   "id": "9267253b",
   "metadata": {},
   "source": [
    "$z$ is the vectorized coupling of $\\mu$ and $\\nu$ must be positive."
   ]
  },
  {
   "cell_type": "code",
   "execution_count": 18,
   "id": "b05c7f58",
   "metadata": {},
   "outputs": [],
   "source": [
    "constraints = [z >= 0]"
   ]
  },
  {
   "cell_type": "code",
   "execution_count": 19,
   "id": "9ff5b57e",
   "metadata": {},
   "outputs": [],
   "source": [
    "problem = cp.Problem(obj, constraints)"
   ]
  },
  {
   "cell_type": "code",
   "execution_count": 20,
   "id": "0161ee75",
   "metadata": {},
   "outputs": [],
   "source": [
    "res = problem.solve()"
   ]
  },
  {
   "cell_type": "markdown",
   "id": "37f6604a",
   "metadata": {},
   "source": [
    "The minimum risk (mean squared error) is "
   ]
  },
  {
   "cell_type": "code",
   "execution_count": 21,
   "id": "c63e07a8",
   "metadata": {},
   "outputs": [
    {
     "data": {
      "text/plain": [
       "0.047973478298571876"
      ]
     },
     "execution_count": 21,
     "metadata": {},
     "output_type": "execute_result"
    }
   ],
   "source": [
    "res"
   ]
  },
  {
   "cell_type": "markdown",
   "id": "cf98a938",
   "metadata": {},
   "source": [
    "Let's reshape z back to a matrix of size M x N"
   ]
  },
  {
   "cell_type": "code",
   "execution_count": 22,
   "id": "37b76fae",
   "metadata": {},
   "outputs": [],
   "source": [
    "Z = z.value.reshape(M, N)"
   ]
  },
  {
   "cell_type": "markdown",
   "id": "bc24bfac",
   "metadata": {},
   "source": [
    "the map of $\\mu$ by the transportation map $T$ is $T(\\mu) = \\sum_{j} \\gamma_{ij}$. It should be as close as possible to the target distribution $\\nu$."
   ]
  },
  {
   "cell_type": "code",
   "execution_count": 23,
   "id": "29499d39",
   "metadata": {},
   "outputs": [
    {
     "data": {
      "text/plain": [
       "(20,)"
      ]
     },
     "execution_count": 23,
     "metadata": {},
     "output_type": "execute_result"
    }
   ],
   "source": [
    "tmu = Z.sum(1)\n",
    "tmu.shape"
   ]
  },
  {
   "cell_type": "markdown",
   "id": "5558a986",
   "metadata": {},
   "source": [
    "## Visual checking"
   ]
  },
  {
   "cell_type": "markdown",
   "id": "14d95b42",
   "metadata": {},
   "source": [
    "The optimal transport map between $\\mu$ and $\\nu$"
   ]
  },
  {
   "cell_type": "code",
   "execution_count": 24,
   "id": "4a55835a",
   "metadata": {},
   "outputs": [],
   "source": [
    "def plot_map(filename = \"\"):\n",
    "    fig = plt.figure(figsize=(4, 4))\n",
    "    gs = GridSpec(2, 2, width_ratios=[1, 4], height_ratios=[1, 4])\n",
    "    ax1 = plt.subplot(gs[1])\n",
    "    ax1.bar(range(M), nu, color = \"maroon\")\n",
    "    ax1.axis(\"off\")\n",
    "    ax2 = plt.subplot(gs[2])\n",
    "    ax2.barh(range(N), mu, color = \"darkblue\")\n",
    "    ax2.invert_xaxis()\n",
    "    ax2.axis(\"off\")\n",
    "    ax3 = plt.subplot(gs[3])\n",
    "    ax3.imshow(Z.transpose())\n",
    "    ax3.axis(\"off\")\n",
    "    if filename != \"\":\n",
    "        plt.savefig(filename)\n",
    "    ax1.set_title(\"Joint and marginal histograms\")\n",
    "    plt.show()"
   ]
  },
  {
   "cell_type": "code",
   "execution_count": 25,
   "id": "05293b06",
   "metadata": {},
   "outputs": [
    {
     "data": {
      "image/png": "[encoded data removed]",
      "text/plain": [
       "<Figure size 400x400 with 3 Axes>"
      ]
     },
     "metadata": {},
     "output_type": "display_data"
    }
   ],
   "source": [
    "plot_map(\"../_figures/linear_program\")"
   ]
  },
  {
   "cell_type": "markdown",
   "id": "fb848636",
   "metadata": {},
   "source": [
    "The target distribution $\\nu$ and the optimal transport map of $\\mu$"
   ]
  },
  {
   "cell_type": "code",
   "execution_count": 26,
   "id": "627a7bc0",
   "metadata": {},
   "outputs": [
    {
     "data": {
      "image/png": "[encoded data removed]",
      "text/plain": [
       "<Figure size 350x262.5 with 1 Axes>"
      ]
     },
     "metadata": {},
     "output_type": "display_data"
    }
   ],
   "source": [
    "plt.bar(range(M), nu, color = \"maroon\")\n",
    "plt.bar(range(M), tmu, color = \"grey\", alpha = 0.5)\n",
    "plt.show()"
   ]
  },
  {
   "cell_type": "markdown",
   "id": "d70b0e0b",
   "metadata": {},
   "source": [
    "$T(\\mu)$ and $\\nu$ have the same shape. Let's draw them side by side."
   ]
  },
  {
   "cell_type": "code",
   "execution_count": 27,
   "id": "683b75e5",
   "metadata": {},
   "outputs": [
    {
     "data": {
      "image/png": "[encoded data removed]",
      "text/plain": [
       "<Figure size 600x300 with 2 Axes>"
      ]
     },
     "metadata": {},
     "output_type": "display_data"
    }
   ],
   "source": [
    "fig, axes = plt.subplots(1, 2, figsize = (6, 3))\n",
    "axes[0].bar(range(M), nu, color = \"maroon\", label = \"$y$\")\n",
    "axes[0].legend()\n",
    "axes[1].bar(range(M), tmu, color = \"grey\", label = \"$T(\\mu)$\")\n",
    "axes[1].legend()\n",
    "plt.show()"
   ]
  },
  {
   "cell_type": "code",
   "execution_count": 28,
   "id": "6fc94665-6eaf-4b06-9c9a-7d9e76565e55",
   "metadata": {},
   "outputs": [
    {
     "data": {
      "image/png": "[encoded data removed]",
      "text/plain": [
       "<Figure size 400x400 with 1 Axes>"
      ]
     },
     "metadata": {},
     "output_type": "display_data"
    }
   ],
   "source": [
    "plt.matshow(Z.transpose())\n",
    "plt.title(\"Optimal transport plan\")\n",
    "plt.show()"
   ]
  },
  {
   "cell_type": "code",
   "execution_count": null,
   "id": "9e75dd2c-0bcb-4340-b385-4ee906dc19de",
   "metadata": {},
   "outputs": [],
   "source": []
  }
 ],
 "metadata": {
  "kernelspec": {
   "display_name": "Python 3 (ipykernel)",
   "language": "python",
   "name": "python3"
  },
  "language_info": {
   "codemirror_mode": {
    "name": "ipython",
    "version": 3
   },
   "file_extension": ".py",
   "mimetype": "text/x-python",
   "name": "python",
   "nbconvert_exporter": "python",
   "pygments_lexer": "ipython3",
   "version": "3.11.5"
  }
 },
 "nbformat": 4,
 "nbformat_minor": 5
}
