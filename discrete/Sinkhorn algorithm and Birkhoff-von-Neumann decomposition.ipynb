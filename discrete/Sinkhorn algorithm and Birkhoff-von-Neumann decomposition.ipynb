{
 "cells": [
  {
   "cell_type": "markdown",
   "id": "32d2f497",
   "metadata": {},
   "source": [
    "## Optimal transport formulations"
   ]
  },
  {
   "cell_type": "markdown",
   "id": "be69ae82-22c5-4701-ae08-e9ef77902a02",
   "metadata": {},
   "source": [
    "Let $x = \\sum_{i=0}^{n} \\delta_{x_i}$ and $y = \\sum_{i=0}^{n} \\delta_{y_i}$ be two discrete measures"
   ]
  },
  {
   "cell_type": "markdown",
   "id": "e1834cb1-2ba4-4969-8520-7097fa9ef0e0",
   "metadata": {},
   "source": [
    "**Monge formulation**"
   ]
  },
  {
   "cell_type": "markdown",
   "id": "46ccddda",
   "metadata": {},
   "source": [
    "the Monge formulation of the optimal transport problem is\n",
    "\n",
    "<font color=\"blue\">\n",
    "$$ \\begin{array}{c}\\text{min}\\\\ \\sigma \\in \\Pi_{N}\\end{array}\n",
    "\\left\\{ \\sum_{i=1}^{N} C_{i},\\sigma(i) \\right\\}$$\n",
    "</font>\n",
    "\n",
    "where\n",
    "- $\\Pi_{N}$: set of all the permutation matrices of $\\{1, \\ldots, N\\} \\text{x} \\{1, \\ldots, N\\}$\n",
    "- $\\sigma \\in \\Pi_{N}$: permutation matrix\n",
    "- $\\sigma(i)$: ith row of $\\sigma$."
   ]
  },
  {
   "cell_type": "markdown",
   "id": "f96208c8",
   "metadata": {},
   "source": [
    "**Kantorovich formulation**"
   ]
  },
  {
   "cell_type": "markdown",
   "id": "f0bb2339-c30e-4f6d-a114-a98b9e80876d",
   "metadata": {},
   "source": [
    "<font color=\"blue\">\n",
    "$$M \\in \\textbf{B}_{N} = \\left\\{ P \\in \\mathbb{R}^{N\\text{x}N}_{+} : \\sum_{i}P_{i,j}=1 \\, \\sum_{j}P_{i,j}=1 \\right\\}$$\n",
    "</font>\n",
    "\n",
    "where\n",
    "- $\\textbf{B}_{N}$: set of all the bistochastic matrices in $R^{N\\text{x}N}$"
   ]
  },
  {
   "cell_type": "markdown",
   "id": "6a430b95-c4aa-49e8-9ce5-9f781178b9b4",
   "metadata": {},
   "source": [
    "### Sinkhorn theorem"
   ]
  },
  {
   "cell_type": "markdown",
   "id": "9dbd4084-2cee-4a9a-bae6-6ad2633366e9",
   "metadata": {},
   "source": [
    "There exist diagonal matrices $U$ and $V$ such that $P = U M V$ is bistochastic matrix"
   ]
  },
  {
   "cell_type": "markdown",
   "id": "c33a96e9-d93d-4360-8f4f-64924120d796",
   "metadata": {},
   "source": [
    "### Birkhoff-von-Neumann decomposition"
   ]
  },
  {
   "cell_type": "markdown",
   "id": "b28d23a3-05ba-4d27-b7c3-f58aa9503d9b",
   "metadata": {},
   "source": [
    "The Birkhoff-von-Neumann decomposition of a bistochastic matrix $P \\in \\mathbf{B}_N$ is \n",
    "\n",
    "$$\n",
    "P = \\sum_{i=0}^{m} \\lambda_i Pi\n",
    "$$\n",
    "\n",
    "where $\\lambda_i \\in [0, 1]$ and $P_i \\in \\Pi_n$ is a permutation matrix"
   ]
  },
  {
   "cell_type": "markdown",
   "id": "b7dea933-b177-436f-98f5-d2779942d3a1",
   "metadata": {},
   "source": [
    "## From Kantorovich to Monge"
   ]
  },
  {
   "cell_type": "markdown",
   "id": "db068c3e-302f-4341-ae05-c97fa5266b08",
   "metadata": {},
   "source": [
    "### Importing libraries"
   ]
  },
  {
   "cell_type": "code",
   "execution_count": 1,
   "id": "d2edb000",
   "metadata": {},
   "outputs": [],
   "source": [
    "import numpy as np\n",
    "import networkx as nx\n",
    "import math\n",
    "import matplotlib.pyplot as plt\n",
    "import matplotlib as mpl\n",
    "from matplotlib.gridspec import GridSpec\n",
    "plt.style.use(\"science\")\n",
    "from scipy.optimize import linprog"
   ]
  },
  {
   "cell_type": "markdown",
   "id": "df6c94a5-4e7c-409e-8170-bc044fed6aed",
   "metadata": {},
   "source": [
    "**Discrete measures**"
   ]
  },
  {
   "cell_type": "code",
   "execution_count": 2,
   "id": "cfbb4af3",
   "metadata": {},
   "outputs": [],
   "source": [
    "N = 6\n",
    "x = np.array([24., 9., 3., 16., 21., 27.])\n",
    "y = np.array([3., 23., 18., 26., 16., 14.])"
   ]
  },
  {
   "cell_type": "code",
   "execution_count": 3,
   "id": "d465acf2",
   "metadata": {},
   "outputs": [
    {
     "data": {
      "image/png": "[encoded data removed]",
      "text/plain": [
       "<Figure size 350x262.5 with 2 Axes>"
      ]
     },
     "metadata": {},
     "output_type": "display_data"
    }
   ],
   "source": [
    "fig, axes = plt.subplots(1, 2);\n",
    "axes[0].bar(range(N), x, color = \"skyblue\")\n",
    "axes[0].set_xlabel(\"bakeries\")\n",
    "axes[1].bar(range(N), y, color = \"silver\")\n",
    "axes[1].set_xlabel(\"cafeterias\")\n",
    "plt.show()"
   ]
  },
  {
   "cell_type": "markdown",
   "id": "a171e38c-7708-46c8-8072-81be29f13ee8",
   "metadata": {},
   "source": [
    "**Cost matrix**"
   ]
  },
  {
   "cell_type": "code",
   "execution_count": 4,
   "id": "80bf65d1-f586-44ec-97b7-6ca1c9f47a24",
   "metadata": {},
   "outputs": [],
   "source": [
    "c = np.zeros((N, N))\n",
    "for i in range(N):\n",
    "    for j in range(N):\n",
    "        c[i,j] = np.abs(x[i] - y[j])"
   ]
  },
  {
   "cell_type": "code",
   "execution_count": 5,
   "id": "75fa9506-0af4-4be9-a30c-430214d563d3",
   "metadata": {},
   "outputs": [
    {
     "data": {
      "text/plain": [
       "array([[21.,  1.,  6.,  2.,  8., 10.],\n",
       "       [ 6., 14.,  9., 17.,  7.,  5.],\n",
       "       [ 0., 20., 15., 23., 13., 11.],\n",
       "       [13.,  7.,  2., 10.,  0.,  2.],\n",
       "       [18.,  2.,  3.,  5.,  5.,  7.],\n",
       "       [24.,  4.,  9.,  1., 11., 13.]])"
      ]
     },
     "execution_count": 5,
     "metadata": {},
     "output_type": "execute_result"
    }
   ],
   "source": [
    "c"
   ]
  },
  {
   "cell_type": "markdown",
   "id": "4c0d5456",
   "metadata": {},
   "source": [
    "**Solving the problem**"
   ]
  },
  {
   "cell_type": "markdown",
   "id": "5641846d",
   "metadata": {},
   "source": [
    "The optimal transport problem can be solved by the an integer linear program \n",
    "\n",
    "<font color=\"blue\">\n",
    "$$\n",
    "\\begin{align}\n",
    "\\text{min} \\big\\{ <c, z> : p \\geq 0, Az = b\\big\\}\n",
    "\\end{align}\n",
    "$$\n",
    "</font>\n",
    "\n",
    "where c is the vectorized cost matrix C, z is the vectorized matrix Z,\n",
    " $A = \\left[\n",
    "\\begin{array}{c}\n",
    "I_{N} \\otimes 1_{1\\text{x}N}\\\\\n",
    "1_{1\\text{x}N} \\otimes I_{N}\n",
    "\\end{array}\n",
    "\\right]$\n",
    "and $b=\\left[\\begin{array}{c}x\\\\ y \\end{array}\\right]$"
   ]
  },
  {
   "cell_type": "code",
   "execution_count": 6,
   "id": "f075fa56",
   "metadata": {},
   "outputs": [],
   "source": [
    "def solv_lp(x, y, N, c):\n",
    "    Ax = np.kron(np.identity(N), np.ones(N))\n",
    "    Ay = np.kron(np.ones(N), np.identity(N))\n",
    "    A = np.concatenate((Ax, Ay), 0)\n",
    "    b = np.concatenate((x, y))\n",
    "    res = linprog(c, A_eq = A, b_eq = b, method = 'highs')\n",
    "    z = res.x\n",
    "    Z = z.reshape((N, N))\n",
    "    return Z"
   ]
  },
  {
   "cell_type": "code",
   "execution_count": 7,
   "id": "e009a278",
   "metadata": {},
   "outputs": [
    {
     "data": {
      "text/plain": [
       "(6, 6)"
      ]
     },
     "execution_count": 7,
     "metadata": {},
     "output_type": "execute_result"
    }
   ],
   "source": [
    "z = solv_lp(x, y, N, c.reshape(N*N))\n",
    "z.shape"
   ]
  },
  {
   "cell_type": "code",
   "execution_count": 8,
   "id": "87483699",
   "metadata": {},
   "outputs": [
    {
     "data": {
      "text/plain": [
       "array([[ 0., 23.,  0.,  0.,  0.,  1.],\n",
       "       [ 0.,  0.,  0.,  0.,  0.,  9.],\n",
       "       [ 3.,  0.,  0.,  0.,  0.,  0.],\n",
       "       [ 0.,  0.,  0.,  0., 15.,  1.],\n",
       "       [ 0.,  0., 18.,  0.,  0.,  3.],\n",
       "       [ 0.,  0.,  0., 26.,  1.,  0.]])"
      ]
     },
     "execution_count": 8,
     "metadata": {},
     "output_type": "execute_result"
    }
   ],
   "source": [
    "z"
   ]
  },
  {
   "cell_type": "code",
   "execution_count": 9,
   "id": "006aa17d-c66d-450e-bb34-1c599c2a0716",
   "metadata": {},
   "outputs": [
    {
     "data": {
      "image/png": "[encoded data removed]",
      "text/plain": [
       "<Figure size 400x400 with 1 Axes>"
      ]
     },
     "metadata": {},
     "output_type": "display_data"
    }
   ],
   "source": [
    "fig, ax = plt.subplots(figsize = (4, 4))\n",
    "ax.matshow(c, cmap = mpl.colors.ListedColormap([\"white\"]))\n",
    "ax.set_title(\"Optimal transport plan (Kantorovich)\")\n",
    "for i in range(N):\n",
    "    for j in range(N):\n",
    "        color = 'red' if z[i,j] > 0 else 'black'\n",
    "        ax.text(j, i, int(z[i, j]), horizontalalignment = 'center',\n",
    "                verticalalignment = 'center', weight = 'bold', color = color)"
   ]
  },
  {
   "cell_type": "markdown",
   "id": "3139b825-f833-4101-8a68-dacc2ba641d0",
   "metadata": {},
   "source": [
    "**Sinkhorn algorithm**"
   ]
  },
  {
   "cell_type": "code",
   "execution_count": 10,
   "id": "636512c7-7f49-413f-96b9-c983502dd3da",
   "metadata": {},
   "outputs": [],
   "source": [
    "def sinkhorn_algorithm(z, N, itermax = 1000, eps = 1e-1):\n",
    "    u = np.ones(N)\n",
    "    u0 = u.copy()\n",
    "    v = np.ones(N)\n",
    "    v0 = v.copy()\n",
    "    for i in range(itermax):\n",
    "        v = np.ones(N) / (z.T @ u)\n",
    "        u = np.ones(N) / (z @ v)\n",
    "        if np.linalg.norm(u - u0) < eps and np.linalg.norm(v - v0) < eps:\n",
    "            print(\"Sinkhorn algorithm converged after {} iterations\".format(i))\n",
    "            break\n",
    "        else:\n",
    "            u0 = u.copy()\n",
    "            v0 = v.copy()\n",
    "    return u,v"
   ]
  },
  {
   "cell_type": "code",
   "execution_count": 11,
   "id": "538169ac-6a36-4f5e-934b-89f1398cb4ac",
   "metadata": {},
   "outputs": [],
   "source": [
    "u, v = sinkhorn_algorithm(z, N)"
   ]
  },
  {
   "cell_type": "markdown",
   "id": "940d332f-6d83-4880-8e04-c8958c2d5541",
   "metadata": {},
   "source": [
    "The matrix $P = Diag(u) M Diag(v)$"
   ]
  },
  {
   "cell_type": "code",
   "execution_count": 12,
   "id": "f4827d42-0d50-45ad-98db-5b5505c6a93b",
   "metadata": {},
   "outputs": [],
   "source": [
    "P = np.diag(u) @ z @ np.diag(v)"
   ]
  },
  {
   "cell_type": "markdown",
   "id": "08ba8f20-470b-4c75-bc29-bd62259805ab",
   "metadata": {},
   "source": [
    "We can check that P is indeed a bistochastic matrix"
   ]
  },
  {
   "cell_type": "code",
   "execution_count": 13,
   "id": "220b5f12-1cf2-485a-bc25-2b0455cb547a",
   "metadata": {},
   "outputs": [
    {
     "data": {
      "text/plain": [
       "array([1.        , 0.99988094, 0.9998426 , 0.99915164, 1.00010294,\n",
       "       1.00102188])"
      ]
     },
     "execution_count": 13,
     "metadata": {},
     "output_type": "execute_result"
    }
   ],
   "source": [
    "P.sum(0)"
   ]
  },
  {
   "cell_type": "code",
   "execution_count": 14,
   "id": "c2426291-e959-490b-a66a-867fbdec0e6c",
   "metadata": {},
   "outputs": [
    {
     "data": {
      "text/plain": [
       "array([1., 1., 1., 1., 1., 1.])"
      ]
     },
     "execution_count": 14,
     "metadata": {},
     "output_type": "execute_result"
    }
   ],
   "source": [
    "P.sum(1)"
   ]
  },
  {
   "cell_type": "markdown",
   "id": "0296b93b-a171-45dd-9c9e-962d544aa234",
   "metadata": {},
   "source": [
    "**From Monge to Kantorovich**"
   ]
  },
  {
   "cell_type": "code",
   "execution_count": 15,
   "id": "924dc1d5-c83c-4a9e-84e4-ebc3cddb39cd",
   "metadata": {},
   "outputs": [
    {
     "data": {
      "image/png": "[encoded data removed]",
      "text/plain": [
       "<Figure size 400x400 with 1 Axes>"
      ]
     },
     "metadata": {},
     "output_type": "display_data"
    }
   ],
   "source": [
    "plt.matshow(P)\n",
    "plt.show()"
   ]
  },
  {
   "cell_type": "code",
   "execution_count": 16,
   "id": "a8541e8b-a4f1-4b70-b2f6-8439b244b9a9",
   "metadata": {},
   "outputs": [],
   "source": [
    "Q = np.zeros((N, N))\n",
    "Q[P > 0.1] = 1."
   ]
  },
  {
   "cell_type": "code",
   "execution_count": 17,
   "id": "930aac0e-1cfb-4719-b643-b7b8f931352b",
   "metadata": {},
   "outputs": [
    {
     "data": {
      "image/png": "[encoded data removed]",
      "text/plain": [
       "<Figure size 400x400 with 1 Axes>"
      ]
     },
     "metadata": {},
     "output_type": "display_data"
    }
   ],
   "source": [
    "plt.matshow(Q)\n",
    "plt.show()"
   ]
  },
  {
   "cell_type": "markdown",
   "id": "1773ed86-8680-4aaa-b607-66e6d176f196",
   "metadata": {},
   "source": [
    "**Solution to the Monge formulation**"
   ]
  },
  {
   "cell_type": "code",
   "execution_count": 18,
   "id": "bc805b06-05b6-443a-8ba8-afb49fbd18c3",
   "metadata": {},
   "outputs": [
    {
     "data": {
      "image/png": "[encoded data removed]",
      "text/plain": [
       "<Figure size 400x400 with 1 Axes>"
      ]
     },
     "metadata": {},
     "output_type": "display_data"
    }
   ],
   "source": [
    "fig, ax = plt.subplots(figsize = (4, 4))\n",
    "ax.matshow(c, cmap = mpl.colors.ListedColormap([\"white\"]))\n",
    "ax.set_title(\"Optimal transport plan (Monge)\")\n",
    "for i in range(N):\n",
    "    for j in range(N):\n",
    "        if (Q[i,j] > 0):\n",
    "            color = 'red'\n",
    "        else:\n",
    "            color = 'black'\n",
    "        ax.text(j, i, int(c[i, j]), horizontalalignment = 'center',\n",
    "                verticalalignment = 'center', weight = 'bold', color = color)"
   ]
  },
  {
   "cell_type": "code",
   "execution_count": null,
   "id": "2c05324e",
   "metadata": {},
   "outputs": [],
   "source": []
  }
 ],
 "metadata": {
  "kernelspec": {
   "display_name": "Python 3 (ipykernel)",
   "language": "python",
   "name": "python3"
  },
  "language_info": {
   "codemirror_mode": {
    "name": "ipython",
    "version": 3
   },
   "file_extension": ".py",
   "mimetype": "text/x-python",
   "name": "python",
   "nbconvert_exporter": "python",
   "pygments_lexer": "ipython3",
   "version": "3.11.5"
  }
 },
 "nbformat": 4,
 "nbformat_minor": 5
}
