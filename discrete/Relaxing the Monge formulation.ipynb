{
 "cells": [
  {
   "cell_type": "markdown",
   "id": "32d2f497",
   "metadata": {},
   "source": [
    "## Monge formulation"
   ]
  },
  {
   "cell_type": "markdown",
   "id": "46ccddda",
   "metadata": {},
   "source": [
    "Let $X: \\Omega_{X} \\rightarrow \\mathbb{R}$ and $Y: \\Omega_{Y} \\rightarrow \\mathbb{R}$ be two discrete random variables with $\\Omega_{X} = \\Omega_{Y} = [1, \\ldots, N]$, the Monge formulation of the optimal transport problem is\n",
    "\n",
    "<font color=\"blue\">\n",
    "$$ \\begin{array}{c}\\text{min}\\\\ \\sigma \\in \\Pi_{N}\\end{array}\n",
    "\\left\\{ \\sum_{i=1}^{N} C_{i},\\sigma(i) \\right\\}$$\n",
    "</font>\n",
    "\n",
    "where $\\Pi_{N}$ is the set of all the permutation matrices of $\\{1, \\ldots, N\\} \\text{x} \\{1, \\ldots, N\\}$, $\\sigma \\in \\Pi_{N}$ a permutation matrix and $\\sigma(i)$ the ith row of $\\sigma$."
   ]
  },
  {
   "cell_type": "markdown",
   "id": "db068c3e-302f-4341-ae05-c97fa5266b08",
   "metadata": {},
   "source": [
    "### Importing libraries"
   ]
  },
  {
   "cell_type": "code",
   "execution_count": 1,
   "id": "d2edb000",
   "metadata": {},
   "outputs": [],
   "source": [
    "import numpy as np\n",
    "import networkx as nx\n",
    "import math\n",
    "import matplotlib.pyplot as plt\n",
    "import matplotlib as mpl\n",
    "from matplotlib.gridspec import GridSpec\n",
    "plt.style.use(\"science\")\n",
    "from scipy.optimize import linprog\n",
    "import pandas as pd\n",
    "import networkx as nx"
   ]
  },
  {
   "cell_type": "markdown",
   "id": "247110ee",
   "metadata": {},
   "source": [
    "### The Monge fomulation doesn't always have a solution"
   ]
  },
  {
   "cell_type": "markdown",
   "id": "f078e0d6",
   "metadata": {},
   "source": [
    "Suppose there are N bakeries and N cafeterias and a bakery can supply only one cafeteria.\n",
    "Each bakery produces $x_{i}$ cakes and each cafeteria requires $y_{i}$ cakes s.t. $\\sum_{i}x_{i} = \\sum_{j} y_{j}$."
   ]
  },
  {
   "cell_type": "code",
   "execution_count": 2,
   "id": "cfbb4af3",
   "metadata": {},
   "outputs": [],
   "source": [
    "N = 6\n",
    "x = np.array([24., 9., 3., 16., 21., 27.])\n",
    "y = np.array([3., 23., 18., 26., 16., 14.])"
   ]
  },
  {
   "cell_type": "code",
   "execution_count": 3,
   "id": "c7f554c9",
   "metadata": {},
   "outputs": [
    {
     "data": {
      "text/plain": [
       "100.0"
      ]
     },
     "execution_count": 3,
     "metadata": {},
     "output_type": "execute_result"
    }
   ],
   "source": [
    "x.sum()"
   ]
  },
  {
   "cell_type": "code",
   "execution_count": 4,
   "id": "d612babe",
   "metadata": {},
   "outputs": [
    {
     "data": {
      "text/plain": [
       "100.0"
      ]
     },
     "execution_count": 4,
     "metadata": {},
     "output_type": "execute_result"
    }
   ],
   "source": [
    "y.sum()"
   ]
  },
  {
   "cell_type": "code",
   "execution_count": 5,
   "id": "d465acf2",
   "metadata": {},
   "outputs": [
    {
     "data": {
      "image/png": "[encoded data removed]",
      "text/plain": [
       "<Figure size 350x262.5 with 2 Axes>"
      ]
     },
     "metadata": {},
     "output_type": "display_data"
    }
   ],
   "source": [
    "fig, axes = plt.subplots(1, 2);\n",
    "axes[0].bar(range(N), x, color = \"skyblue\")\n",
    "axes[0].set_xlabel(\"bakeries\")\n",
    "axes[1].bar(range(N), y, color = \"silver\")\n",
    "axes[1].set_xlabel(\"cafeterias\")\n",
    "plt.show()"
   ]
  },
  {
   "cell_type": "markdown",
   "id": "099eb71d",
   "metadata": {},
   "source": [
    "The problem doesn't have a solution in the Monge formulation. However it can be solved if we relax the constraints and each bakery can supply more than one cafeterias."
   ]
  },
  {
   "cell_type": "markdown",
   "id": "f96208c8",
   "metadata": {},
   "source": [
    "### Relaxing the Monge formulation : Kantorovich formulation"
   ]
  },
  {
   "cell_type": "markdown",
   "id": "832f4d5b",
   "metadata": {},
   "source": [
    "Assume that a bakery can deliver cakes to any cafeteria. Now we are interested in finding a matrix $M$ with values in $[0, 1]$ and all the rows and the columns sum to one. $B_{i,j}$ represent the proportion of goods produced by the bakery i and delivered to the cafeteria j.\n",
    "\n",
    "<font color=\"blue\">\n",
    "$$M \\in \\textbf{B}_{N} = \\left\\{ P \\in \\mathbb{R}^{N\\text{x}N}_{+} : \\sum_{i}P_{i,j}=1 \\, \\sum_{j}P_{i,j}=1 \\right\\}$$\n",
    "</font>\n",
    "\n",
    "where $\\textbf{B}_{N}$ is the set of all the bistochastic matrices in $R^{N\\text{x}N}$"
   ]
  },
  {
   "cell_type": "markdown",
   "id": "da502234",
   "metadata": {},
   "source": [
    "The kantorovich formulation of the optimal transport problem is\n",
    "\n",
    "$$\n",
    "\\begin{array}{c} \\text{min}\\\\P \\in \\textbf{B}_{N}\\end{array}\n",
    "\\left\\{ \\sum_{i=1}^{N}\\sum_{j=1}^{N} P_{i,j}C_{i,j}\\right\\}\n",
    "$$"
   ]
  },
  {
   "cell_type": "markdown",
   "id": "a7ffa2c7",
   "metadata": {},
   "source": [
    "Let $P_{ij} = \\frac{Z_{ij}}{\\sum_{ij} Z_{ij}}$ where $Z \\in \\textbf{N}^{N\\text{x}N}$"
   ]
  },
  {
   "cell_type": "markdown",
   "id": "16da2703",
   "metadata": {},
   "source": [
    "$$\n",
    "\\begin{array}{c}\n",
    "    \\begin{array}{c} \\text{min}\\\\P \\in \\textbf{B}_{N}\\end{array}\n",
    "    \\left\\{ \\sum_{i=1}^{N}\\sum_{j=1}^{N} P_{i,j}C_{i,j}\\right\\}\n",
    "    &\n",
    "    \\equiv\n",
    "    \\begin{array}{c} \\text{min}\\\\Z \\in \\textbf{N}^{N\\text{x}N}\\end{array}\n",
    "    \\left\\{ \\sum_{i=1}^{N}\\sum_{j=1}^{N} Z_{i,j}C_{i,j} : Z_{i,j} \\geq 0 \\right\\}\n",
    "\\end{array}\n",
    "$$"
   ]
  },
  {
   "cell_type": "markdown",
   "id": "5641846d",
   "metadata": {},
   "source": [
    "which can be solved by the following integer linear program \n",
    "\n",
    "<font color=\"blue\">\n",
    "$$\n",
    "\\begin{align}\n",
    "\\text{min} \\big\\{ <c, z> : p \\geq 0, Az = b\\big\\}\n",
    "\\end{align}\n",
    "$$\n",
    "</font>\n",
    "\n",
    "where c is the vectorized cost matrix C, z is the vectorized matrix Z,\n",
    " $A = \\left[\n",
    "\\begin{array}{c}\n",
    "I_{N} \\otimes 1_{1\\text{x}N}\\\\\n",
    "1_{1\\text{x}N} \\otimes I_{N}\n",
    "\\end{array}\n",
    "\\right]$\n",
    "and $b=\\left[\\begin{array}{c}x\\\\ y \\end{array}\\right]$"
   ]
  },
  {
   "cell_type": "markdown",
   "id": "4c0d5456",
   "metadata": {},
   "source": [
    "**Solving the problem with scipy**"
   ]
  },
  {
   "cell_type": "code",
   "execution_count": 6,
   "id": "f075fa56",
   "metadata": {},
   "outputs": [
    {
     "data": {
      "text/plain": [
       "(6, 36)"
      ]
     },
     "execution_count": 6,
     "metadata": {},
     "output_type": "execute_result"
    }
   ],
   "source": [
    "Ax = np.kron(np.identity(N), np.ones(N))\n",
    "Ax.shape"
   ]
  },
  {
   "cell_type": "code",
   "execution_count": 7,
   "id": "e009a278",
   "metadata": {},
   "outputs": [
    {
     "data": {
      "text/plain": [
       "(6, 36)"
      ]
     },
     "execution_count": 7,
     "metadata": {},
     "output_type": "execute_result"
    }
   ],
   "source": [
    "Ay = np.kron(np.ones(N), np.identity(N))\n",
    "Ay.shape"
   ]
  },
  {
   "cell_type": "code",
   "execution_count": 8,
   "id": "8a87507e",
   "metadata": {},
   "outputs": [
    {
     "data": {
      "text/plain": [
       "(12, 36)"
      ]
     },
     "execution_count": 8,
     "metadata": {},
     "output_type": "execute_result"
    }
   ],
   "source": [
    "A = np.concatenate((Ax, Ay), 0)\n",
    "A.shape"
   ]
  },
  {
   "cell_type": "code",
   "execution_count": 9,
   "id": "16fc667c",
   "metadata": {},
   "outputs": [
    {
     "data": {
      "text/plain": [
       "(12,)"
      ]
     },
     "execution_count": 9,
     "metadata": {},
     "output_type": "execute_result"
    }
   ],
   "source": [
    "b = np.concatenate((x, y))\n",
    "b.shape"
   ]
  },
  {
   "cell_type": "code",
   "execution_count": 10,
   "id": "87483699",
   "metadata": {},
   "outputs": [],
   "source": [
    "C = np.array([[12., 10., 31., 27., 10., 30.],\n",
    "              [22.,  7., 25., 15., 11., 14.],\n",
    "              [19.,  7., 19., 10., 15., 15.],\n",
    "              [10.,  6., 21., 19., 14., 24.],\n",
    "              [15., 23., 14., 24., 31., 34.],\n",
    "              [35., 26., 16.,  9., 34., 15.]])\n",
    "c = C.reshape(N * N)"
   ]
  },
  {
   "cell_type": "code",
   "execution_count": 11,
   "id": "0311607d",
   "metadata": {},
   "outputs": [],
   "source": [
    "res = linprog(c, A_eq = A, b_eq = b, method = 'highs')"
   ]
  },
  {
   "cell_type": "markdown",
   "id": "c60d4943",
   "metadata": {},
   "source": [
    "**Visual checking**"
   ]
  },
  {
   "cell_type": "markdown",
   "id": "ecc7c245",
   "metadata": {},
   "source": [
    "The solution of the integer linear program is "
   ]
  },
  {
   "cell_type": "code",
   "execution_count": 12,
   "id": "8856409a",
   "metadata": {},
   "outputs": [],
   "source": [
    "z = res.x\n",
    "Z = z.reshape((N, N))"
   ]
  },
  {
   "cell_type": "code",
   "execution_count": 13,
   "id": "702d1d52",
   "metadata": {},
   "outputs": [],
   "source": [
    "def plot_map(filename = \"\"):\n",
    "    fig = plt.figure(figsize=(4, 4))\n",
    "    gs = GridSpec(2, 2, width_ratios=[1, 5], height_ratios=[1, 5])\n",
    "    ax1 = plt.subplot(gs[1])\n",
    "    ax1.bar(range(N), y, color = \"silver\")\n",
    "    ax1.axis(\"off\")\n",
    "    ax2 = plt.subplot(gs[2])\n",
    "    ax2.barh(range(N), x, color = \"skyblue\")\n",
    "    ax2.invert_xaxis()\n",
    "    ax2.axis(\"off\")\n",
    "    ax3 = plt.subplot(gs[3])\n",
    "    ax3.imshow(Z, cmap = mpl.colors.ListedColormap([\"white\"]))\n",
    "    ax3.axis(\"off\")\n",
    "    for i in range(N):\n",
    "        for j in range(N):\n",
    "            color = 'black' if Z[i,j] > 0 else 'grey'\n",
    "            plt.text(j,i, int(Z[i,j]), horizontalalignment = 'center',\n",
    "                verticalalignment = 'center', weight = 'bold', color = color)\n",
    "    if filename != \"\":\n",
    "        plt.savefig(filename)\n",
    "    ax1.set_title(\"Joint and marginal histograms\")\n",
    "    plt.show()"
   ]
  },
  {
   "cell_type": "code",
   "execution_count": 14,
   "id": "9541c61c",
   "metadata": {},
   "outputs": [
    {
     "data": {
      "image/png": "[encoded data removed]",
      "text/plain": [
       "<Figure size 400x400 with 3 Axes>"
      ]
     },
     "metadata": {},
     "output_type": "display_data"
    }
   ],
   "source": [
    "plot_map(\"../_figures/Joint and marginal histograms\")"
   ]
  },
  {
   "cell_type": "markdown",
   "id": "5e44e190",
   "metadata": {},
   "source": [
    "The bakery 0 should deliver 1 cake to the the cafeteria 0, 7 cakes to the cafeteria 1, \n",
    "and 16 cakes to the cafeteria 4.\n",
    "\n",
    "The bakery 1 should deliver all its 9 cakes to the cafeteria 5, and so on ..."
   ]
  },
  {
   "cell_type": "code",
   "execution_count": 15,
   "id": "c3d3109b",
   "metadata": {},
   "outputs": [],
   "source": [
    "g = nx.Graph()"
   ]
  },
  {
   "cell_type": "code",
   "execution_count": 16,
   "id": "af2a615e",
   "metadata": {},
   "outputs": [],
   "source": [
    "nodes_x = ['x' + str(i) for i in range(N)]\n",
    "nodes_y = ['y' + str(i) for i in range(N)]\n",
    "# Adding the nodes\n",
    "for n in nodes_x + nodes_y:\n",
    "    g.add_node(n)\n",
    "# Adding the edges\n",
    "for i in range(N):\n",
    "    for j in range(N):\n",
    "        if (Z[i, j] > 0):\n",
    "            g.add_edge(nodes_x[i], nodes_y[j], weight=Z[i,j])"
   ]
  },
  {
   "cell_type": "code",
   "execution_count": 17,
   "id": "695a3ec4",
   "metadata": {},
   "outputs": [
    {
     "data": {
      "image/png": "[encoded data removed]",
      "text/plain": [
       "<Figure size 350x262.5 with 1 Axes>"
      ]
     },
     "metadata": {},
     "output_type": "display_data"
    }
   ],
   "source": [
    "# Drawing the graph\n",
    "pos = nx.spring_layout(g, k = 3, seed = 5)\n",
    "nx.draw_networkx_nodes(g, pos, nodelist=nodes_x, node_color = 'skyblue', node_size = 400)\n",
    "nx.draw_networkx_nodes(g, pos, nodelist=nodes_y, node_color = 'silver', node_size = 400)\n",
    "nx.draw_networkx_labels(g, pos, font_color = 'black', font_weight='bold', alpha = 1.0)\n",
    "nx.draw_networkx_edges(g, pos, style = 'dashed')\n",
    "edge_labels = nx.get_edge_attributes(g, 'weight')\n",
    "nx.draw_networkx_edge_labels(g, pos, edge_labels, label_pos=0.5, font_weight='bold')\n",
    "plt.axis('off')\n",
    "plt.tight_layout()\n",
    "plt.show()"
   ]
  },
  {
   "cell_type": "markdown",
   "id": "c0101a70",
   "metadata": {},
   "source": [
    "The minimum cost is"
   ]
  },
  {
   "cell_type": "code",
   "execution_count": 18,
   "id": "70e20726",
   "metadata": {},
   "outputs": [
    {
     "data": {
      "text/plain": [
       "1070.0"
      ]
     },
     "execution_count": 18,
     "metadata": {},
     "output_type": "execute_result"
    }
   ],
   "source": [
    "np.dot(C.flatten(), Z.flatten())"
   ]
  },
  {
   "cell_type": "code",
   "execution_count": null,
   "id": "2c05324e",
   "metadata": {},
   "outputs": [],
   "source": []
  }
 ],
 "metadata": {
  "kernelspec": {
   "display_name": "Python 3 (ipykernel)",
   "language": "python",
   "name": "python3"
  },
  "language_info": {
   "codemirror_mode": {
    "name": "ipython",
    "version": 3
   },
   "file_extension": ".py",
   "mimetype": "text/x-python",
   "name": "python",
   "nbconvert_exporter": "python",
   "pygments_lexer": "ipython3",
   "version": "3.11.5"
  }
 },
 "nbformat": 4,
 "nbformat_minor": 5
}
