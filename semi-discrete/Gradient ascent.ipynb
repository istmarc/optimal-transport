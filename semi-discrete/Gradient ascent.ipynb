{
 "cells": [
  {
   "cell_type": "markdown",
   "id": "237f0d56-061a-415b-be13-cccf4a50380e",
   "metadata": {},
   "source": [
    "## Gradient ascent"
   ]
  },
  {
   "cell_type": "markdown",
   "id": "a09003b1-bea9-4cce-a4a3-e37a4cbf7cec",
   "metadata": {},
   "source": [
    "### Importing libraries"
   ]
  },
  {
   "cell_type": "code",
   "execution_count": 1,
   "id": "50a88afe",
   "metadata": {},
   "outputs": [],
   "source": [
    "import numpy as np\n",
    "from scipy import stats\n",
    "import matplotlib.pyplot as plt\n",
    "plt.rcParams['text.usetex'] = True\n",
    "plt.style.use(\"science\")\n",
    "import cvxpy as cp\n",
    "import math\n",
    "import matplotlib as mpl\n",
    "from random import shuffle\n",
    "import pandas as pd"
   ]
  },
  {
   "cell_type": "markdown",
   "id": "f17527e1",
   "metadata": {},
   "source": [
    "### Semi discrete optimal transport"
   ]
  },
  {
   "cell_type": "markdown",
   "id": "6b18367d",
   "metadata": {},
   "source": [
    "<font color=\"blue\">\n",
    "$$\n",
    "\\begin{align}\n",
    "\\text{min} \\big\\{ \\int_X \\sum_j c_{T}(x, y_j) d\\gamma_j(x) : \\int_X d\\gamma_j(x) = \\nu_j, \\sum_j d\\gamma_j(x) = d\\mu(x) \\big\\}\n",
    "\\end{align}\n",
    "$$\n",
    "</font>"
   ]
  },
  {
   "cell_type": "markdown",
   "id": "4f64d489",
   "metadata": {},
   "source": [
    "where\n",
    "- $\\mu(x) \\sim X$ is a continuous distribution\n",
    "- $\\nu \\sim Y$ is a discrete distribution\n",
    "- $c_T(x, y_j) = \\frac{1}{2}(x - y_j)^2$ is the cost function"
   ]
  },
  {
   "cell_type": "markdown",
   "id": "9cf46a11",
   "metadata": {},
   "source": [
    "### Generate a problem"
   ]
  },
  {
   "cell_type": "markdown",
   "id": "b7ed938b",
   "metadata": {},
   "source": [
    "**Continuous distribution $\\mu(x) \\sim X = N(0, 1)$ and a discrete distribution $\\nu \\sim Y$**"
   ]
  },
  {
   "cell_type": "code",
   "execution_count": 2,
   "id": "a09f02a0-8e77-4a0e-a58c-d0746afdad24",
   "metadata": {},
   "outputs": [],
   "source": [
    "data = pd.read_csv(\"../datasets/gaussians_double.csv\")\n",
    "x = data[\"x\"]\n",
    "y = data[\"y\"]\n",
    "N = x.size\n",
    "M = y.size"
   ]
  },
  {
   "cell_type": "code",
   "execution_count": 3,
   "id": "1a34c7ce-a8aa-4a56-8095-e30915df6795",
   "metadata": {},
   "outputs": [
    {
     "data": {
      "image/png": "[encoded data removed]",
      "text/plain": [
       "<Figure size 500x300 with 1 Axes>"
      ]
     },
     "metadata": {},
     "output_type": "display_data"
    }
   ],
   "source": [
    "fig, ax = plt.subplots(figsize=(5, 3)) \n",
    "plt.bar(range(N), x, color = \"darkblue\")\n",
    "plt.bar(range(M), y, color = \"darkred\", alpha = 0.5)\n",
    "plt.show()"
   ]
  },
  {
   "cell_type": "markdown",
   "id": "f9178702",
   "metadata": {},
   "source": [
    "### Distance matrix"
   ]
  },
  {
   "cell_type": "markdown",
   "id": "d57b799d",
   "metadata": {},
   "source": [
    "$$C = d(x_i, y_j) = \\frac{1}{2}(x_i - y_j)^2$$\n",
    "\n",
    "$$i = \\{1, 2, \\ldots, M\\} \\ \\text{and} \\ j = \\{1, 2, \\ldots, N\\}$$"
   ]
  },
  {
   "cell_type": "code",
   "execution_count": 4,
   "id": "5490f578",
   "metadata": {},
   "outputs": [],
   "source": [
    "C = np.zeros((M, N))\n",
    "for i in range(M):\n",
    "    for j in range(N):\n",
    "        C[i, j] = .5 * (x[i] - y[j])**2"
   ]
  },
  {
   "cell_type": "code",
   "execution_count": 5,
   "id": "2dc5e93b",
   "metadata": {},
   "outputs": [
    {
     "data": {
      "image/png": "[encoded data removed]",
      "text/plain": [
       "<Figure size 350x350 with 1 Axes>"
      ]
     },
     "metadata": {},
     "output_type": "display_data"
    }
   ],
   "source": [
    "fig = plt.figure(figsize=(3.5, 3.5))\n",
    "plt.imshow(C, cmap = mpl.colormaps[\"inferno\"])\n",
    "plt.show()"
   ]
  },
  {
   "cell_type": "markdown",
   "id": "4e73214a",
   "metadata": {},
   "source": [
    "### Gradient ascent algorithm"
   ]
  },
  {
   "cell_type": "markdown",
   "id": "c09c9835",
   "metadata": {},
   "source": [
    "**Dual formulation**"
   ]
  },
  {
   "cell_type": "markdown",
   "id": "a298b73f",
   "metadata": {},
   "source": [
    "<font color=\"blue\">\n",
    "$$\\sup_{\\psi, \\phi} \\big\\{ \\sum_j\\psi_j\\nu_j + \\int_X \\phi(x) d\\mu(x) : \\psi_j + \\phi(x) \\leq c(x, y_j) \\big\\}$$\n",
    "</font>\n",
    "\n",
    "which is equivalent to\n",
    "\n",
    "<font color=\"blue\">\n",
    "$$\\sup_{\\psi} \\big\\{ \\sum_j\\psi_j\\nu_j + \\int_X \\inf_{j}[c(x, y_j) - \\psi_j] d\\mu(x) \\big\\}$$\n",
    "</font>\n",
    "\n",
    "This loss function is **non-smooth** but it can be optimized with a projective gradient ascent algorithm "
   ]
  },
  {
   "cell_type": "markdown",
   "id": "c55886b0",
   "metadata": {},
   "source": [
    "**Objective function**"
   ]
  },
  {
   "cell_type": "markdown",
   "id": "0bb8fbb0",
   "metadata": {},
   "source": [
    "<font color=\"blue\">\n",
    "$$J(\\psi) = \\sum_j \\psi_j \\nu_j + \\int_X \\inf_j [c(x, y_j) - \\psi_j]d\\mu(x)$$\n",
    "</font>\n",
    "\n",
    "with $\\psi = (\\psi_1, \\psi_2, \\ldots, \\psi_N) \\in R^N$"
   ]
  },
  {
   "cell_type": "code",
   "execution_count": 6,
   "id": "4c396179",
   "metadata": {},
   "outputs": [],
   "source": [
    "# Objective function\n",
    "# Return the value of the objective function, arginf(c(x,y_j) - psi_j) and phi\n",
    "def obj(psi, nu, M, N, C):\n",
    "    r = 0.\n",
    "    for j in range(N):\n",
    "        r += psi[j] * nu[j]\n",
    "    arg_inf = np.zeros(N, dtype = np.int64)\n",
    "    phi = np.zeros(M)\n",
    "    for i in range(M):\n",
    "        j_star = np.random.randint(N)\n",
    "        min_value = max(0., C[i, j_star] - psi[j_star])\n",
    "        nn = list(range(N))\n",
    "        shuffle(nn)\n",
    "        for j in nn:\n",
    "            new_value = C[i,j] - psi[j]\n",
    "            if (new_value > 0. and new_value < min_value):\n",
    "                min_value = C[i, j] - psi[j]\n",
    "                j_star = j\n",
    "        phi[i] = min_value\n",
    "        arg_inf[i] = j_star\n",
    "        r += min_value * x[j_star]\n",
    "    return r, phi, arg_inf"
   ]
  },
  {
   "cell_type": "markdown",
   "id": "e64a50a3",
   "metadata": {},
   "source": [
    "**Gradient of the objective function**"
   ]
  },
  {
   "cell_type": "markdown",
   "id": "d0e8de64",
   "metadata": {},
   "source": [
    "$$\\nabla J (\\psi) = \\left( \\frac{\\partial J}{\\delta \\psi_1}, \\frac{\\partial J}{\\partial \\psi_2},\n",
    "    \\ldots, \\frac{\\partial J}{\\partial \\psi_N} \\right) = \\left( \\ldots, \\frac{\\partial J}{\\partial \\psi_k}, \\ldots \\right)$$\n",
    "\n",
    "with $k = 1, 2, \\ldots, N$"
   ]
  },
  {
   "cell_type": "markdown",
   "id": "bd8486a0",
   "metadata": {},
   "source": [
    "$$\n",
    "\\begin{align}\n",
    "\\frac{\\partial J}{\\partial \\psi_k} &= \\frac{\\partial J}{\\partial \\psi_k} \\sum_j \\psi_j \\nu_j + \\int_X \\inf_j [c(x, y_j) - \\psi_j]d\\mu(x)\\\\\n",
    "    &= \\frac{\\partial J}{\\partial \\psi_k} \\sum_j \\psi_j \\nu_j + \\sum_i \\inf_j [c(x_i, y_j) - \\psi_j]x_i\\\\\n",
    "    &= \\nu_k + \\frac{\\partial J}{\\partial \\psi_k} \\sum_i [c(x_i, y_{j_i^{*}}) - \\psi_{j_i^{*}}]x_i\\\\\n",
    "\\end{align}\n",
    "$$\n",
    "\n",
    "where $j_i^{*} = \\arg \\inf c(x_i, y_j) - \\psi_j$"
   ]
  },
  {
   "cell_type": "markdown",
   "id": "8d5e6d42",
   "metadata": {},
   "source": [
    "$$\n",
    "\\begin{align}\n",
    "\\frac{\\partial J}{\\partial \\psi_k} &= \\nu_k + \\sum_i \\frac{\\partial J}{\\partial \\psi_k} [c(x_i, y_{j_i^{*}}) - \\psi_{j_i^{*}}]x_i\\\\\n",
    "    &= \\nu_k - \\sum_i \\delta_{k j_i^{*}} x_i\\\\\n",
    "\\end{align}\n",
    "$$\n",
    "\n",
    "where $\\delta_{k j_i^{*}} = [k = j_i^{*}]$ is the Kronecker delta function\n",
    "\n",
    "Thus\n",
    "\n",
    "$$\\nabla J (\\psi) = \\left( \\ldots \\nu_k - \\sum_i \\delta_{k j_i^{*}} x_i \\ldots \\right)$$ "
   ]
  },
  {
   "cell_type": "code",
   "execution_count": 7,
   "id": "3c5fda30",
   "metadata": {},
   "outputs": [],
   "source": [
    "# Gradient of J\n",
    "# Here it doesn't depend on the parameter psi\n",
    "def grad_obj(psi, phi, arg_inf, nu, M, N):\n",
    "    grad = np.zeros(N)\n",
    "    for k in range(N):\n",
    "        grad[k] = nu[k]\n",
    "        for i in range(M):\n",
    "            grad[k] -= x[arg_inf[k]]\n",
    "    return grad"
   ]
  },
  {
   "cell_type": "markdown",
   "id": "7a278fd1",
   "metadata": {},
   "source": [
    "**Projective Gradient ascent algorithm**"
   ]
  },
  {
   "cell_type": "markdown",
   "id": "5dd36bc6",
   "metadata": {},
   "source": [
    "1. Choose $\\psi \\in \\mathbb{R}^{N}$\n",
    "2. $\\psi_{n+1} = \\text{Proj}_{D} \\left( \\psi_n - \\lambda \\nabla J(\\psi_n) \\right)$\n",
    "3. $\\phi_{n+1} = \\text{Proj}_{D} \\left( \\inf_j c(x, y_j) - \\psi_n(j) \\right)$\n",
    "4. Repeat steps 2 and 3 until convergence\n",
    "\n",
    "where\n",
    "\n",
    "- $\\lambda$ is the learning rate\n",
    "- $\\text{Proj}$ is the projection onto $D = \\left[ 0, C(x, y_j) \\right] ^ N$"
   ]
  },
  {
   "cell_type": "code",
   "execution_count": 8,
   "id": "16889860",
   "metadata": {},
   "outputs": [],
   "source": [
    "def project(psi, phi, M, N, C):\n",
    "    for i in range(M):\n",
    "        for j in range(N):\n",
    "            if psi[j] > 0.:\n",
    "                if C[i,j] - phi[j] < psi[j]:\n",
    "                    psi[j] = C[i,j] - phi[j]\n",
    "    psi = np.maximum(np.zeros(N), psi)\n",
    "    return psi"
   ]
  },
  {
   "cell_type": "code",
   "execution_count": 9,
   "id": "2df3217e",
   "metadata": {},
   "outputs": [],
   "source": [
    "# Projective gradient ascent\n",
    "# Returns psi, phi and the loss\n",
    "def proj_gradient_ascent(x, nu, M, N, lr = 1e-3, epochs = 100):\n",
    "    psi_0 = np.random.randn(N)\n",
    "    psi_0 = np.maximum(np.zeros(N), psi_0)\n",
    "    loss_0, phi_0, arg_inf = obj(psi_0, nu, M, N, C)\n",
    "    hist = []\n",
    "    best = {\"psi\": psi_0, \"phi\": phi_0, \"loss\": 0.}\n",
    "    best_epoch = 0\n",
    "    for epoch in range(epochs):\n",
    "        # project phi back onto [0, C]^N\n",
    "        phi_0 = project(phi_0.copy(), psi_0, M, N, C)\n",
    "        # Compute the gradient\n",
    "        grad = grad_obj(psi_0, phi_0, arg_inf, nu, M, N)\n",
    "        # Update psi\n",
    "        psi_1 = psi_0 - lr * grad\n",
    "        # project psi back onto [0, C]^N\n",
    "        psi_1 = project(psi_1, phi_0, M, N, C)\n",
    "        # Compute the loss and phi\n",
    "        loss_1, phi_1, arg_inf = obj(psi_1, nu, M, N, C)\n",
    "        # Save psi and phi\n",
    "        psi_0 = psi_1\n",
    "        phi_0 = phi_1\n",
    "        loss_0 = loss_1\n",
    "        # Save the loss history\n",
    "        if epoch > 0:\n",
    "            hist.append(loss_1)\n",
    "            if loss_1 > best[\"loss\"]:\n",
    "                best[\"phi\"] = phi_1\n",
    "                best[\"psi\"] = psi_1\n",
    "                best[\"loss\"] = loss_1\n",
    "                best[\"epoch\"] = epoch\n",
    "                best_epoch = epoch\n",
    "    print(\"Max loss {} at epoch {}\".format(best[\"loss\"], best[\"epoch\"]))\n",
    "    return best, hist"
   ]
  },
  {
   "cell_type": "code",
   "execution_count": 10,
   "id": "bdebbedc",
   "metadata": {},
   "outputs": [
    {
     "name": "stdout",
     "output_type": "stream",
     "text": [
      "Max loss 1.8508537500000011e-06 at epoch 24\n"
     ]
    }
   ],
   "source": [
    "params, hist = proj_gradient_ascent(x, y, M, N)"
   ]
  },
  {
   "cell_type": "code",
   "execution_count": 11,
   "id": "e911309a",
   "metadata": {},
   "outputs": [],
   "source": [
    "psi, phi, loss, epoch_max = tuple(params.values())"
   ]
  },
  {
   "cell_type": "code",
   "execution_count": 12,
   "id": "07c88e0a",
   "metadata": {},
   "outputs": [
    {
     "data": {
      "image/png": "[encoded data removed]",
      "text/plain": [
       "<Figure size 600x300 with 1 Axes>"
      ]
     },
     "metadata": {},
     "output_type": "display_data"
    }
   ],
   "source": [
    "fig = plt.figure(figsize=(6, 3))\n",
    "plt.plot(hist, label = \"loss J($\\psi$)\", color=\"darkblue\")\n",
    "plt.axhline(loss, color = \"red\", label = \"max J($\\psi$)\")\n",
    "plt.legend()\n",
    "plt.show()"
   ]
  },
  {
   "cell_type": "markdown",
   "id": "c6a7402a",
   "metadata": {},
   "source": [
    "### Primal from dual"
   ]
  },
  {
   "cell_type": "code",
   "execution_count": 13,
   "id": "543da3bc",
   "metadata": {},
   "outputs": [],
   "source": [
    "def init_gamma(x, y, M, N, C, phi, psi, eps):\n",
    "    Ax = np.kron(np.identity(M), np.ones(N))\n",
    "    Ay = np.kron(np.ones(M), np.identity(N))\n",
    "    A = np.concatenate((Ax, Ay), 0)\n",
    "    c = C.flatten()\n",
    "    u = np.concatenate((phi, psi), 0)\n",
    "    # Slack variables\n",
    "    # xi = 0 when si > 0 \n",
    "    s = c - A.T @ u\n",
    "    # Initialize gamma\n",
    "    gamma = np.ones(M * N)\n",
    "    # Number of nonzero variables\n",
    "    k = M * N\n",
    "    for i in range(s.size):\n",
    "        if abs(s[i]) > eps:\n",
    "            gamma[i] = 0.\n",
    "            k -= 1\n",
    "    Gamma = gamma.reshape((M, N))\n",
    "    return Gamma, k"
   ]
  },
  {
   "cell_type": "code",
   "execution_count": 14,
   "id": "ccfd5d66",
   "metadata": {},
   "outputs": [],
   "source": [
    "eps = 1e-3\n",
    "Gamma_0, k = init_gamma(x, y, M, N, C, phi, psi, eps)"
   ]
  },
  {
   "cell_type": "code",
   "execution_count": 15,
   "id": "e2548fcd",
   "metadata": {},
   "outputs": [
    {
     "data": {
      "image/png": "[encoded data removed]",
      "text/plain": [
       "<Figure size 350x350 with 1 Axes>"
      ]
     },
     "metadata": {},
     "output_type": "display_data"
    }
   ],
   "source": [
    "fig = plt.figure(figsize=(3.5, 3.5))\n",
    "plt.imshow(Gamma_0, cmap = mpl.colormaps[\"inferno\"])\n",
    "plt.show()"
   ]
  },
  {
   "cell_type": "markdown",
   "id": "a5d9e75a",
   "metadata": {},
   "source": [
    "**Constraints for $A_x \\gamma = x$**"
   ]
  },
  {
   "cell_type": "code",
   "execution_count": 16,
   "id": "e6c166ff",
   "metadata": {},
   "outputs": [],
   "source": [
    "def linear_constraints_x(Gamma, M, N, k, eps):\n",
    "    # Indices of non zeros\n",
    "    Indices = []\n",
    "    for i in range(M):\n",
    "        for j in range(N):\n",
    "            if abs(Gamma[i,j]) > eps:\n",
    "                Indices.append([i, j])\n",
    "    # Number of nonzeros for the ith row\n",
    "    Rows = dict()\n",
    "    for i in range(len(Indices)):\n",
    "        j = Indices[i][0]\n",
    "        if not j in Rows:\n",
    "            Rows[j] = 1\n",
    "        else:\n",
    "            Rows[j] += 1\n",
    "    # Fill A and b\n",
    "    A = []\n",
    "    b = []\n",
    "    skip = 0\n",
    "    for (i, n) in Rows.items():\n",
    "        vec = np.concatenate((np.zeros(skip), np.ones(n), np.zeros(k - n - skip)), 0)\n",
    "        A.append(vec)\n",
    "        b.append(x[i])\n",
    "        skip += n\n",
    "    return A, b, Indices"
   ]
  },
  {
   "cell_type": "markdown",
   "id": "f0155b14",
   "metadata": {},
   "source": [
    "**Constraints for $A_y \\gamma = y$**"
   ]
  },
  {
   "cell_type": "code",
   "execution_count": 17,
   "id": "684cd84c",
   "metadata": {},
   "outputs": [],
   "source": [
    "def linear_constraints_y(Gamma, M, N, k, eps):\n",
    "    # Indices of non zeros (i, j)\n",
    "    I = []\n",
    "    for i in range(M):\n",
    "        for j in range(N):\n",
    "            if abs(Gamma[i,j]) > eps:\n",
    "                I.append([i, j])\n",
    "    # Indices of non zeros (j, i)\n",
    "    Indices = []\n",
    "    for j in range(N):\n",
    "        for i in range(M):\n",
    "            if abs(Gamma[i,j]) > eps:\n",
    "                Indices.append([j, i])\n",
    "    # Number of indices to skip\n",
    "    Skip = dict()\n",
    "    for i in range(len(Indices)):\n",
    "        j = Indices[i][0]\n",
    "        if not j in Skip:\n",
    "            Skip[j] = 1\n",
    "        else:\n",
    "            Skip[j] += 1\n",
    "    # Fill A and b\n",
    "    A = []\n",
    "    b = []\n",
    "    for (j, skip) in Skip.items():\n",
    "        vec = np.zeros(k)\n",
    "        for idx in range(len(I)):\n",
    "            ii, jj = I[idx]\n",
    "            if (jj == j):\n",
    "                vec[idx] = 1\n",
    "        A.append(vec)\n",
    "        b.append(y[j])\n",
    "    return A, b"
   ]
  },
  {
   "cell_type": "markdown",
   "id": "48dcf827",
   "metadata": {},
   "source": [
    "**Primal formulation**"
   ]
  },
  {
   "cell_type": "code",
   "execution_count": 18,
   "id": "2185d82b",
   "metadata": {},
   "outputs": [],
   "source": [
    "def primal_from_dual(Gamma, x, y, M, N, C, k, eps):\n",
    "    Ax, bx, I = linear_constraints_x(Gamma, M, N, k, eps)\n",
    "    Ay, by = linear_constraints_y(Gamma, M, N, k, eps)\n",
    "    # Distance vector\n",
    "    v = np.zeros(k)\n",
    "    for idx in range(len(I)):\n",
    "        i, j = I[idx]\n",
    "        v[idx] = C[i, j]\n",
    "    # Variable\n",
    "    z = cp.Variable(k)\n",
    "    # Objective function\n",
    "    obj = cp.Minimize(v.T @ z)\n",
    "    # Constraints\n",
    "    constraints = [z >= 0]\n",
    "    for A, b in zip(Ax, bx):\n",
    "        constraints.append(A @ z >= b)\n",
    "    # Constraints for A_y @ z =y\n",
    "    for A, b in zip(Ay, by):\n",
    "        constraints.append(A @ z >= b)\n",
    "    # Solve the LP problem\n",
    "    problem = cp.Problem(obj, constraints)\n",
    "    sol = problem.solve()\n",
    "    print(f\"Min <c, z> = {sol}\")\n",
    "    # print(z.value)\n",
    "    Z = z.value\n",
    "    # Gamma\n",
    "    Gamma = Gamma.copy()\n",
    "    for idx in range(k):\n",
    "        i, j = I[idx]\n",
    "        Gamma[i, j] = Z[idx]\n",
    "    return Gamma"
   ]
  },
  {
   "cell_type": "code",
   "execution_count": 19,
   "id": "b48fefe7",
   "metadata": {},
   "outputs": [
    {
     "name": "stdout",
     "output_type": "stream",
     "text": [
      "Min <c, z> = 3.689743876622332e-06\n"
     ]
    }
   ],
   "source": [
    "Gamma = primal_from_dual(Gamma_0, x, y, M, N, C, k, eps)"
   ]
  },
  {
   "cell_type": "markdown",
   "id": "2c9b700b",
   "metadata": {},
   "source": [
    "### Optimal transportation map"
   ]
  },
  {
   "cell_type": "code",
   "execution_count": 20,
   "id": "a0e5a54a",
   "metadata": {},
   "outputs": [
    {
     "data": {
      "image/png": "[encoded data removed]",
      "text/plain": [
       "<Figure size 350x350 with 1 Axes>"
      ]
     },
     "metadata": {},
     "output_type": "display_data"
    }
   ],
   "source": [
    "fig = plt.figure(figsize=(3.5, 3.5))\n",
    "plt.imshow(Gamma)\n",
    "plt.title(\"Optimal transportation map $\\gamma_j(x)$\")\n",
    "plt.show()"
   ]
  },
  {
   "cell_type": "markdown",
   "id": "dc142036",
   "metadata": {},
   "source": [
    "**Marginal distributions**"
   ]
  },
  {
   "cell_type": "code",
   "execution_count": 21,
   "id": "78da8288",
   "metadata": {},
   "outputs": [],
   "source": [
    "def marginal_dist(Gamma, M, N, i):\n",
    "    if i == 0:\n",
    "        g= np.zeros(M)\n",
    "        for i in range(M):\n",
    "            for j in range(N):\n",
    "                g[i] += Gamma[i, j]\n",
    "    else:\n",
    "        g = np.zeros(N)\n",
    "        for i in range(M):\n",
    "            for j in range(N):\n",
    "                g[j] += Gamma[i,j]\n",
    "    g /= g.sum()\n",
    "    return g"
   ]
  },
  {
   "cell_type": "code",
   "execution_count": 22,
   "id": "07aa098a",
   "metadata": {},
   "outputs": [],
   "source": [
    "gx = marginal_dist(Gamma, M, N, 0)"
   ]
  },
  {
   "cell_type": "code",
   "execution_count": 23,
   "id": "deb194af",
   "metadata": {},
   "outputs": [
    {
     "data": {
      "image/png": "[encoded data removed]",
      "text/plain": [
       "<Figure size 350x262.5 with 1 Axes>"
      ]
     },
     "metadata": {},
     "output_type": "display_data"
    }
   ],
   "source": [
    "plt.bar(range(M), x, color = \"darkblue\")\n",
    "plt.bar(range(M), gx, color = \"darkred\", alpha = .5)\n",
    "plt.show()"
   ]
  },
  {
   "cell_type": "code",
   "execution_count": 24,
   "id": "ca113d66",
   "metadata": {},
   "outputs": [],
   "source": [
    "gy = marginal_dist(Gamma, M, N, 1)"
   ]
  },
  {
   "cell_type": "code",
   "execution_count": 25,
   "id": "e5bd91bb",
   "metadata": {},
   "outputs": [
    {
     "data": {
      "image/png": "[encoded data removed]",
      "text/plain": [
       "<Figure size 350x262.5 with 1 Axes>"
      ]
     },
     "metadata": {},
     "output_type": "display_data"
    }
   ],
   "source": [
    "plt.bar(range(N), y, color = \"darkblue\")\n",
    "plt.bar(range(N), gy, color = \"darkred\", alpha = .5)\n",
    "plt.show()"
   ]
  },
  {
   "cell_type": "markdown",
   "id": "a6e239b1",
   "metadata": {},
   "source": [
    "### Exact solution with linear programming"
   ]
  },
  {
   "cell_type": "markdown",
   "id": "99a75fdd",
   "metadata": {},
   "source": [
    "**Dual Formulation**"
   ]
  },
  {
   "cell_type": "code",
   "execution_count": 26,
   "id": "3e91725e",
   "metadata": {},
   "outputs": [],
   "source": [
    "def lp_dual(x, y, M, N, C):\n",
    "    # Variables psi and phi\n",
    "    psi = cp.Variable(N)\n",
    "    phi = cp.Variable(M)\n",
    "    # Objective funtion\n",
    "    dual_obj = cp.Maximize(phi @ x.T + psi @ y.T)\n",
    "    # Constraints\n",
    "    dual_constraints = [psi >= 0, phi >= 0]\n",
    "    for i in range(M):\n",
    "        for j in range(N):\n",
    "            dual_constraints.append(phi[i] + psi[j] - C[i, j] <= 0)\n",
    "    # Solve the dual problem\n",
    "    dual_problem = cp.Problem(dual_obj, dual_constraints)\n",
    "    dual_sol = dual_problem.solve()\n",
    "    print(f\"max <psi, y> + <phi, x> = {dual_sol}\")\n",
    "    return psi.value, phi.value"
   ]
  },
  {
   "cell_type": "code",
   "execution_count": 27,
   "id": "9fb759f1",
   "metadata": {},
   "outputs": [
    {
     "name": "stdout",
     "output_type": "stream",
     "text": [
      "max <psi, y> + <phi, x> = 3.689743876592917e-06\n"
     ]
    }
   ],
   "source": [
    "psi_lp, phi_lp = lp_dual(x, y, M, N, C)"
   ]
  },
  {
   "cell_type": "markdown",
   "id": "de4dcffb",
   "metadata": {},
   "source": [
    "**$\\psi^{*}$ and $\\psi_{lp}^{*}$**"
   ]
  },
  {
   "cell_type": "code",
   "execution_count": 28,
   "id": "f3202761",
   "metadata": {},
   "outputs": [
    {
     "data": {
      "image/png": "[encoded data removed]",
      "text/plain": [
       "<Figure size 350x262.5 with 1 Axes>"
      ]
     },
     "metadata": {},
     "output_type": "display_data"
    }
   ],
   "source": [
    "plt.plot(psi_lp, label = \"LP\", color = \"darkblue\")\n",
    "plt.plot(psi, label = \"Gradient ascent\", color = \"darkred\", alpha = .5)\n",
    "plt.legend()\n",
    "plt.title(\"$\\psi^{*}$\")\n",
    "plt.show()"
   ]
  },
  {
   "cell_type": "markdown",
   "id": "4fc2c75b",
   "metadata": {},
   "source": [
    "**$\\phi^{*}$ and $\\phi_{lp}^{*}$**"
   ]
  },
  {
   "cell_type": "code",
   "execution_count": 29,
   "id": "759219a7",
   "metadata": {},
   "outputs": [
    {
     "data": {
      "image/png": "[encoded data removed]",
      "text/plain": [
       "<Figure size 350x262.5 with 1 Axes>"
      ]
     },
     "metadata": {},
     "output_type": "display_data"
    }
   ],
   "source": [
    "plt.plot(phi_lp, label = \"LP\", color = \"darkblue\")\n",
    "plt.plot(phi, label = \"Gradient ascent\", color = \"darkred\", alpha = .5)\n",
    "plt.legend()\n",
    "plt.title(\"$\\phi^{*}$\")\n",
    "plt.show()"
   ]
  },
  {
   "cell_type": "markdown",
   "id": "0a5d2898",
   "metadata": {},
   "source": [
    "**Primal formulation**"
   ]
  },
  {
   "cell_type": "code",
   "execution_count": 30,
   "id": "df22b013",
   "metadata": {},
   "outputs": [],
   "source": [
    "def lp_primal(x, y, M, N, C):\n",
    "    z = cp.Variable(M * N)\n",
    "    b = np.concatenate((x, y))\n",
    "    Ax = np.kron(np.identity(M), np.ones(N))\n",
    "    Ay = np.kron(np.ones(M), np.identity(N))\n",
    "    A = np.concatenate((Ax, Ay), 0)\n",
    "    c = C.flatten()\n",
    "    primal_obj = cp.Minimize(c.T @ z)\n",
    "    primal_constraints = [z >= 0, A @ z >= b]\n",
    "    primal_problem = cp.Problem(primal_obj, primal_constraints)\n",
    "    primal_sol = primal_problem.solve()\n",
    "    print(f\"Min <c, z> = {primal_sol}\")\n",
    "    Z = z.value.reshape(M, N)\n",
    "    return Z"
   ]
  },
  {
   "cell_type": "code",
   "execution_count": 31,
   "id": "b8a6da21",
   "metadata": {},
   "outputs": [
    {
     "name": "stdout",
     "output_type": "stream",
     "text": [
      "Min <c, z> = 3.689743876055072e-06\n"
     ]
    }
   ],
   "source": [
    "Gamma_lp = lp_primal(x, y, M, N, C)"
   ]
  },
  {
   "cell_type": "markdown",
   "id": "bd8e75ae",
   "metadata": {},
   "source": [
    "**Optimal transportation map**"
   ]
  },
  {
   "cell_type": "code",
   "execution_count": 32,
   "id": "e7e83fa8",
   "metadata": {},
   "outputs": [
    {
     "data": {
      "image/png": "[encoded data removed]",
      "text/plain": [
       "<Figure size 700x350 with 2 Axes>"
      ]
     },
     "metadata": {},
     "output_type": "display_data"
    }
   ],
   "source": [
    "fig, axes = plt.subplots(1, 2, figsize=(7,3.5))\n",
    "axes[0].set_title(\"Linear program\")\n",
    "axes[0].imshow(Gamma_lp)\n",
    "axes[1].imshow(Gamma)\n",
    "axes[1].set_title(\"Gradient ascent\")\n",
    "plt.show()"
   ]
  },
  {
   "cell_type": "markdown",
   "id": "4abf1880",
   "metadata": {},
   "source": [
    "**Marginal distributions**"
   ]
  },
  {
   "cell_type": "code",
   "execution_count": 33,
   "id": "9ddf4c88",
   "metadata": {},
   "outputs": [
    {
     "data": {
      "image/png": "[encoded data removed]",
      "text/plain": [
       "<Figure size 350x262.5 with 1 Axes>"
      ]
     },
     "metadata": {},
     "output_type": "display_data"
    }
   ],
   "source": [
    "gx_lp = marginal_dist(Gamma_lp, M, N, 0)\n",
    "plt.bar(range(N), gx, color = \"darkblue\")\n",
    "plt.bar(range(N), gx_lp, color = \"darkred\", alpha = .5)\n",
    "plt.show()"
   ]
  },
  {
   "cell_type": "code",
   "execution_count": 34,
   "id": "825170ef",
   "metadata": {},
   "outputs": [
    {
     "data": {
      "image/png": "[encoded data removed]",
      "text/plain": [
       "<Figure size 350x262.5 with 1 Axes>"
      ]
     },
     "metadata": {},
     "output_type": "display_data"
    }
   ],
   "source": [
    "gy_lp = marginal_dist(Gamma, M, N, 1)\n",
    "plt.bar(range(N), gy, color = \"darkblue\")\n",
    "plt.bar(range(N), gy_lp, color = \"darkred\", alpha = .5)\n",
    "plt.show()"
   ]
  },
  {
   "cell_type": "markdown",
   "id": "9dfad24d",
   "metadata": {},
   "source": [
    "### References"
   ]
  },
  {
   "cell_type": "markdown",
   "id": "46eedf95",
   "metadata": {},
   "source": [
    "1. **Optimal Transport for Applied Mathematicians** by Filippo Santambrogio\n",
    "2. **[Le transport optimal: de Gaspard Monge à la science des données](https://speakerdeck.com/gpeyre/le-transport-optimal-de-gaspard-monge-a-la-science-des-donnees)** by Gabriel Peyré\n",
    "3. **Optimal Transportation: Duality Theory** by David Gu\n",
    "4. **Projected Gradient Algorithm** by Andersen Ang"
   ]
  },
  {
   "cell_type": "code",
   "execution_count": null,
   "id": "1f9a42a6-faa7-4046-905c-e38334653c84",
   "metadata": {},
   "outputs": [],
   "source": []
  }
 ],
 "metadata": {
  "kernelspec": {
   "display_name": "Python 3 (ipykernel)",
   "language": "python",
   "name": "python3"
  },
  "language_info": {
   "codemirror_mode": {
    "name": "ipython",
    "version": 3
   },
   "file_extension": ".py",
   "mimetype": "text/x-python",
   "name": "python",
   "nbconvert_exporter": "python",
   "pygments_lexer": "ipython3",
   "version": "3.11.5"
  }
 },
 "nbformat": 4,
 "nbformat_minor": 5
}
