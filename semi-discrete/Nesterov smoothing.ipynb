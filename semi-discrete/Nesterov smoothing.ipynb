{
 "cells": [
  {
   "cell_type": "markdown",
   "id": "f150ba66-e765-4a9c-83f3-fc1b8e239c6b",
   "metadata": {},
   "source": [
    "## Nesterov smoothing"
   ]
  },
  {
   "cell_type": "markdown",
   "id": "1d873543-8ac4-4986-ba97-8aae78a1201e",
   "metadata": {},
   "source": [
    "### Importing libraries"
   ]
  },
  {
   "cell_type": "code",
   "execution_count": 1,
   "id": "50a88afe",
   "metadata": {},
   "outputs": [],
   "source": [
    "import numpy as np\n",
    "from scipy import stats\n",
    "import matplotlib.pyplot as plt\n",
    "plt.rcParams['text.usetex'] = True\n",
    "plt.style.use(\"science\")\n",
    "import cvxpy as cp\n",
    "import math\n",
    "import matplotlib as mpl\n",
    "from random import shuffle\n",
    "import pandas as pd"
   ]
  },
  {
   "cell_type": "markdown",
   "id": "f17527e1",
   "metadata": {},
   "source": [
    "### Semi discrete optimal transport"
   ]
  },
  {
   "cell_type": "markdown",
   "id": "6b18367d",
   "metadata": {},
   "source": [
    "<font color=\"blue\">\n",
    "$$\n",
    "\\begin{align}\n",
    "\\text{min} \\big\\{ \\int_X \\sum_j c_{T}(x, y_j) d\\gamma_j(x) : \\int_X d\\gamma_j(x) = \\nu_j, \\sum_j d\\gamma_j(x) = d\\mu(x) \\big\\}\n",
    "\\end{align}\n",
    "$$\n",
    "</font>"
   ]
  },
  {
   "cell_type": "markdown",
   "id": "4f64d489",
   "metadata": {},
   "source": [
    "where\n",
    "- $\\mu(x) \\sim X$ is a continuous distribution\n",
    "- $\\nu \\sim Y$ is a discrete distribution\n",
    "- $c_T(x, y_j) = \\frac{1}{2}(x - y_j)^2$ is the cost function"
   ]
  },
  {
   "cell_type": "markdown",
   "id": "9cf46a11",
   "metadata": {},
   "source": [
    "### Generate a problem"
   ]
  },
  {
   "cell_type": "markdown",
   "id": "b7ed938b",
   "metadata": {},
   "source": [
    "**Continuous distribution $\\mu(x) \\sim X = N(0, 1)$ and a discrete distribution $\\nu \\sim Y$**"
   ]
  },
  {
   "cell_type": "code",
   "execution_count": 2,
   "id": "c40e2399-9239-4205-b379-36c46a331515",
   "metadata": {},
   "outputs": [],
   "source": [
    "data = pd.read_csv(\"../datasets/gaussians.csv\")\n",
    "x = data[\"x\"]\n",
    "y = data[\"y\"]\n",
    "n = data.shape[0]\n",
    "m = data.shape[0]"
   ]
  },
  {
   "cell_type": "code",
   "execution_count": 3,
   "id": "9fc479f7",
   "metadata": {},
   "outputs": [
    {
     "data": {
      "image/png": "[encoded data removed]",
      "text/plain": [
       "<Figure size 350x262.5 with 1 Axes>"
      ]
     },
     "metadata": {},
     "output_type": "display_data"
    }
   ],
   "source": [
    "plt.fill(y, color = \"darkred\")\n",
    "plt.fill(x, color = \"darkblue\", alpha = 0.5)\n",
    "plt.show()"
   ]
  },
  {
   "cell_type": "markdown",
   "id": "f9178702",
   "metadata": {},
   "source": [
    "### Distance matrix"
   ]
  },
  {
   "cell_type": "markdown",
   "id": "d57b799d",
   "metadata": {},
   "source": [
    "$$C = d(x_i, y_j) = \\frac{1}{2}(x_i - y_j)^2$$\n",
    "\n",
    "$$i = \\{1, 2, \\ldots, m\\} \\ \\text{and} \\ j = \\{1, 2, \\ldots, n\\}$$"
   ]
  },
  {
   "cell_type": "code",
   "execution_count": 4,
   "id": "5490f578",
   "metadata": {},
   "outputs": [],
   "source": [
    "C = np.zeros((m, n))\n",
    "for i in range(m):\n",
    "    for j in range(n):\n",
    "        C[i, j] = .5 * (x[i] - y[j])**2"
   ]
  },
  {
   "cell_type": "code",
   "execution_count": 5,
   "id": "2dc5e93b",
   "metadata": {},
   "outputs": [
    {
     "data": {
      "image/png": "[encoded data removed]",
      "text/plain": [
       "<Figure size 300x300 with 1 Axes>"
      ]
     },
     "metadata": {},
     "output_type": "display_data"
    }
   ],
   "source": [
    "fig,ax = plt.subplots(figsize=(3, 3))\n",
    "ax.matshow(C)\n",
    "plt.title(\"Distance matrix\")\n",
    "plt.show()"
   ]
  },
  {
   "cell_type": "markdown",
   "id": "c09c9835",
   "metadata": {},
   "source": [
    "### Dual formulation"
   ]
  },
  {
   "cell_type": "markdown",
   "id": "a298b73f",
   "metadata": {},
   "source": [
    "<font color=\"blue\">\n",
    "$$\\sup_{\\psi, \\phi} \\big\\{ \\sum_j\\psi_j\\nu_j + \\int_X \\phi(x) d\\mu(x) : \\psi_j + \\phi(x) \\leq c(x, y_j) \\big\\}$$\n",
    "</font>\n",
    "\n",
    "which is equivalent to\n",
    "\n",
    "<font color=\"blue\">\n",
    "$$\\sup_{\\psi} \\big\\{ \\sum_j\\psi_j\\nu_j + \\int_X \\inf_{j}[c(x, y_j) - \\psi_j] d\\mu(x) \\big\\}$$\n",
    "</font>\n"
   ]
  },
  {
   "cell_type": "markdown",
   "id": "90317830",
   "metadata": {},
   "source": [
    "This loss function is **non-smooth**, here we approximate it with a smooth function"
   ]
  },
  {
   "cell_type": "markdown",
   "id": "c55886b0",
   "metadata": {},
   "source": [
    "**Objective function**"
   ]
  },
  {
   "cell_type": "markdown",
   "id": "0bb8fbb0",
   "metadata": {},
   "source": [
    "<font color=\"blue\">\n",
    "$$J(\\psi) = \\sum_j \\psi_j \\nu_j + \\sum_i \\inf_j [c_{i,j} - \\psi_j]\\mu_i$$\n",
    "</font>\n",
    "\n",
    "with $\\psi = (\\psi_1, \\psi_2, \\ldots, \\psi_N) \\in R^N$"
   ]
  },
  {
   "cell_type": "markdown",
   "id": "53a54d9d-7099-4804-a1ae-b01b14249172",
   "metadata": {},
   "source": [
    "Let's approximate it with a smooth functions"
   ]
  },
  {
   "cell_type": "markdown",
   "id": "59c1adcb-1b25-41b3-9df1-eed2f48bec3a",
   "metadata": {},
   "source": [
    "let\n",
    "$$\\phi_i = \\psi^{c}(x_i) = \\inf_j [c_{i,j} - \\psi_j ]$$\n",
    "\n",
    "Now we have the following uncontrained problem\n",
    "\n",
    "<font color=\"blue\">\n",
    "$$\\sup_\\psi J(\\psi) = \\sup_j \\sum_j \\psi_j \\nu_j + \\sum_i \\psi^{c}(x_i) \\mu_i $$\n",
    "</font>\n",
    "\n",
    "with $\\psi = (\\psi_1, \\psi_2, \\ldots, \\psi_N) \\in R^N$"
   ]
  },
  {
   "cell_type": "markdown",
   "id": "836ceaba-99be-44b1-ba03-e2c6976a84eb",
   "metadata": {},
   "source": [
    "if $\\psi^*$ is a solution, then\n",
    "\n",
    "$$\n",
    "\\begin{align}\n",
    "J(\\psi^* + k\\mathbb{1}) &= \\sum_j (\\psi_j^* + k\\mathbb{1}) \\nu_j+ \\sum_i \\phi_i \\mu_i \\\\\n",
    "                        &= \\sum_j \\psi_j^* \\nu_j + \\sum_i \\phi_i \\mu_i + k\\sum_j\\nu_j \\\\\n",
    "                        &= \\sum_j \\psi_j^* \\nu_j + \\sum_i \\phi_i \\mu_i + k\n",
    "\\end{align}\n",
    "$$\n"
   ]
  },
  {
   "cell_type": "markdown",
   "id": "91249c0d-8170-495d-85a3-692db834a279",
   "metadata": {},
   "source": [
    "so $J(\\psi^* + k\\mathbb{1}) \\geq J(\\psi^*)$, therefore $\\psi^* + k\\mathbb{1}$ is also a solution"
   ]
  },
  {
   "cell_type": "markdown",
   "id": "b3c8d970-8e8b-411e-a6a8-bb2fdd4856bf",
   "metadata": {},
   "source": [
    "Let's add another term $H$ to make the solution unique"
   ]
  },
  {
   "cell_type": "markdown",
   "id": "7dd11408-7741-4fd9-a701-50a1ff649520",
   "metadata": {},
   "source": [
    "function\n",
    "\n",
    "<font color=\"blue\">\n",
    "$$\n",
    "\\sup_{\\psi} \\mathbb{E} = \\sup_{\\psi}J + I_{H}(\\psi)\n",
    "$$\n",
    "</font>\n",
    "\n",
    "where $H =\\{ \\psi : \\sum_j \\psi_j = 0\\}$, with $I_H(\\psi) = 0$  if $\\psi \\in H$, else $\\infty$"
   ]
  },
  {
   "cell_type": "markdown",
   "id": "54bb3dae-12be-4e06-af37-7c86f0973e87",
   "metadata": {},
   "source": [
    "Let's approximate $\\psi^c(x_i)$ by a smooth function"
   ]
  },
  {
   "cell_type": "markdown",
   "id": "047808da-1ca4-40f0-bab3-613c21c8bb9a",
   "metadata": {},
   "source": [
    "**Nesterov smoothing**"
   ]
  },
  {
   "cell_type": "markdown",
   "id": "b29c6774-6f1a-451f-8522-040179b90866",
   "metadata": {},
   "source": [
    "a function $f = \\max \\{x_1, x_2, ..., x_n\\}$ is approximated by \n",
    "$$f_\\lambda(x) = \\lambda \\log ( \\sum_{j=1}^{n}\\exp^{x_j/\\lambda} ) - \\lambda \\log n$$"
   ]
  },
  {
   "cell_type": "markdown",
   "id": "fd76cbed-93d2-4780-8720-490eed613dc2",
   "metadata": {},
   "source": [
    "An approximation of $\\psi^{c}(x_i)$ is given by"
   ]
  },
  {
   "cell_type": "markdown",
   "id": "331fdbfc-6ac5-4809-b767-b9d7deea298d",
   "metadata": {},
   "source": [
    "$$\\psi^c(x_i) = \\inf_j [c_{i,j} - \\psi_j] = \\sup_j [\\psi_j - c_{i,j}] = \\max_j [\\psi_j - c_{i,j}]$$"
   ]
  },
  {
   "cell_type": "markdown",
   "id": "c86b1889-8630-4b6b-9d93-ac2e768c7b30",
   "metadata": {},
   "source": [
    "then an approximation of $\\psi^c(x_i)$ is\n",
    "\n",
    "<font color=\"blue\">\n",
    "$$\\phi^c_{\\lambda}(x_i) = \\lambda \\log \\sum_{j=1}^{n} \\exp^{(\\psi_j - c_{i,j}) / \\lambda} - \\lambda \\log n$$\n",
    "</font>"
   ]
  },
  {
   "cell_type": "markdown",
   "id": "94e6d760-a864-4eed-ae2d-a98f23fac3cd",
   "metadata": {},
   "source": [
    "The nesterov smoothing is"
   ]
  },
  {
   "cell_type": "markdown",
   "id": "6fffc3b3-34a6-4e36-8217-36d0164cbd0a",
   "metadata": {},
   "source": [
    "$$\n",
    "J_{\\lambda}(\\psi) = \\sum_{j} \\psi_j \\nu_j + \\sum_i \\mu_i \\left( \\lambda \\log \\sum_{j=1}^{n} \\exp^{(\\psi_j - c_{i,j}) / \\lambda} - \\lambda \\log n \\right)\n",
    "$$"
   ]
  },
  {
   "cell_type": "markdown",
   "id": "e07a2a6c-66bd-4273-abb0-9250e126ca75",
   "metadata": {},
   "source": [
    "the smoot objective function is"
   ]
  },
  {
   "cell_type": "markdown",
   "id": "8eb4f1d5-9bf0-4285-b22b-24bddf711e92",
   "metadata": {},
   "source": [
    "<font color=\"blue\">\n",
    "$$\n",
    "J_{\\lambda}(\\psi) = \\sum_{j=1}^{n} \\psi_j \\nu_j\n",
    "+ \\lambda \\sum_{i=1}^{m} \\mu_i \\log (\\sum_{j=1}^{n} \\exp^{\\dfrac{\\psi_j - c_{i,j}}{\\lambda}} )\n",
    "- \\lambda \\log n\n",
    "+ I_H(\\psi)\n",
    "$$\n",
    "</font>"
   ]
  },
  {
   "cell_type": "code",
   "execution_count": 6,
   "id": "b4f88ce4-5071-4543-b625-68e7ed3ab87d",
   "metadata": {},
   "outputs": [],
   "source": [
    "def obj(psi, lbda, mu, nu):\n",
    "    loss = 0.\n",
    "    for j in range(n):\n",
    "        loss += psi[j] * nu[j]\n",
    "    loss_1 = 0.\n",
    "    for i in range(m):\n",
    "        rlog = 0.\n",
    "        for j in range(n):\n",
    "            rlog += math.exp((psi[j] - C[i,j]) / lbda)\n",
    "        rlog = mu[i] * math.log(rlog)\n",
    "        loss_1 += rlog\n",
    "    loss += lbda * loss_1\n",
    "    loss -= lbda * math.log(n)\n",
    "    return loss"
   ]
  },
  {
   "cell_type": "markdown",
   "id": "75f025d3-655d-4fc3-b172-951c463c3940",
   "metadata": {},
   "source": [
    "**Gradient of the objective function**"
   ]
  },
  {
   "cell_type": "markdown",
   "id": "f1f954a5-9e2a-4c7b-9e73-f4b52e8046f5",
   "metadata": {},
   "source": [
    "The gradient is given by"
   ]
  },
  {
   "cell_type": "markdown",
   "id": "2c847db0-5682-4a5b-9e1d-4df0d647874d",
   "metadata": {},
   "source": [
    "$$\n",
    "\\dfrac{\\partial J_\\lambda(\\psi)}{\\partial\\psi_k} =\n",
    "\\nu_k\n",
    "+ \\lambda \\sum_i \\mu_i \\dfrac{ \\dfrac{\\partial}{\\partial \\psi_k} \\sum_{j=1}^{n} \\exp^{(\\psi_j - c_{i,j}) / \\lambda} }\n",
    "{\\sum_j \\exp^{(\\psi_j - c_{i,j})/\\lambda}}\n",
    "+ \\dfrac{\\partial}{\\partial \\psi_k} I_H(\\psi)\n",
    "$$\n",
    "\n",
    "for $k \\in \\{1, ..., n\\}$"
   ]
  },
  {
   "cell_type": "markdown",
   "id": "4a38259c-4b34-46dd-82a5-a1beb0c0bc18",
   "metadata": {},
   "source": [
    "$$\n",
    "\\dfrac{\\partial J_\\lambda(\\psi)}{\\partial\\psi_k} =\n",
    "\\nu_k\n",
    "+ \\sum_i \\mu_i \\dfrac{ \\exp^{(\\psi_k - c_{i,k}) / \\lambda} }\n",
    "{\\sum_j \\exp^{(\\psi_j - c_{i,j})/\\lambda}}\n",
    "$$"
   ]
  },
  {
   "cell_type": "markdown",
   "id": "c39c4e0f-66b1-4463-8509-67c209102b77",
   "metadata": {},
   "source": [
    "<font color = \"blue\">\n",
    "$$\n",
    "\\nabla J_\\lambda(\\psi) =\n",
    "\\left( \\ldots, \\nu_k\n",
    "+ \\sum_i \\mu_i \\dfrac{ \\exp^{(\\psi_k - c_{i,k}) / \\lambda} }\n",
    "{\\sum_j \\exp^{(\\psi_j - c_{i,j})/\\lambda}}, \\ldots \\right)\n",
    "$$\n",
    "</font>"
   ]
  },
  {
   "cell_type": "code",
   "execution_count": 7,
   "id": "f1c50b82-c6af-4aea-b50b-1ab82871b6a5",
   "metadata": {},
   "outputs": [],
   "source": [
    "def project(z, n):\n",
    "    return z - z.sum()/n"
   ]
  },
  {
   "cell_type": "code",
   "execution_count": 8,
   "id": "de447da6-8849-46ad-85ef-06ff977f6dd1",
   "metadata": {},
   "outputs": [],
   "source": [
    "def grad(psi, n, m, lbda, mu, nu):\n",
    "    jgrad = np.zeros(n)\n",
    "    for k in range(n):\n",
    "        jgrad[k] = nu[k]\n",
    "        for i in range(m):\n",
    "            denom = 0.\n",
    "            for j in range(n):\n",
    "                denom += math.exp((psi[j] - C[i, j]) / lbda)\n",
    "            num = math.exp((psi[k] - C[i, k])/lbda)\n",
    "            jgrad[k] += mu[i] * num / denom\n",
    "    return jgrad"
   ]
  },
  {
   "cell_type": "markdown",
   "id": "c7fb56bd-15c7-48dc-8567-fade0b1ac7fd",
   "metadata": {},
   "source": [
    "**Optimization algorithm**"
   ]
  },
  {
   "cell_type": "markdown",
   "id": "5cfdf8fc-f899-4ba1-8c1c-671a86fc38f2",
   "metadata": {},
   "source": [
    "The loss function can be optimized by the Fast Proximal Gradient Method (FISTA)\n",
    "1. Set $\\psi^0 = \\mathbf{0}$, $\\theta_0 = 1$, $\\eta_t = \\lambda$\n",
    "2. $z^{t+1} = \\pi_{\\eta_t I_H}(\\psi^t - \\eta_t \\nabla J_{\\lambda}(\\psi^t))$\n",
    "3. $\\theta_{t+1} = 1/2(1 + \\sqrt(1 + 4\\theta_t^2))$\n",
    "4. $\\psi^{t+1} = z^{t+1} + \\dfrac{\\theta_t - 1}{\\theta_{t+1}}(z^{t+1} - z^t)$"
   ]
  },
  {
   "cell_type": "markdown",
   "id": "ed1cd356-c449-4c1d-9fc1-0bfd866151b5",
   "metadata": {},
   "source": [
    "$\\pi_{\\eta_t I_H}(z) = z - \\dfrac{1}{n} \\sum_{j=1}^{n}z_j$ is the projection of $z$ to $I_H$"
   ]
  },
  {
   "cell_type": "code",
   "execution_count": 9,
   "id": "8467da7d-9fb1-4693-92c6-33b12deca0dd",
   "metadata": {},
   "outputs": [],
   "source": [
    "def optimize(lbda, mu, nu, m, n, itermax = 10, eps = 1e-5):\n",
    "    psi0 = np.zeros(m)\n",
    "    z0 = np.zeros(m)\n",
    "    theta0 = 1\n",
    "    eta_t = lbda\n",
    "    loss0 = 0.\n",
    "    hist_loss = []\n",
    "    for t in range(itermax):\n",
    "        psi0 = project(psi0, n)\n",
    "        jgrad = grad(psi0, n, m, lbda, mu, nu)\n",
    "        theta_t = 0.5 * (1 + math.sqrt(1 + 4 * theta0**2))\n",
    "        z_t = project(psi0 - eta_t * jgrad, n)\n",
    "        psi_t = z_t + (theta0 - 1)  * (z_t - z0) / theta_t\n",
    "        # Loss\n",
    "        loss = obj(psi_t, lbda, x, y)\n",
    "        hist_loss += [loss]\n",
    "        # Update parameters\n",
    "        theta0 = theta_t\n",
    "        psi0 = psi_t\n",
    "        theta0 = theta_t\n",
    "        # check for convergence\n",
    "        if abs(loss - loss0) < eps:\n",
    "            print(\"Convergence at epoch {}\".format(t))\n",
    "            break\n",
    "        else:\n",
    "            loss0 = loss\n",
    "    return psi0, hist_loss"
   ]
  },
  {
   "cell_type": "markdown",
   "id": "240ffbbd-e454-4e24-8c5f-09f944c5fd7e",
   "metadata": {},
   "source": [
    "**Optimization for different values of $\\lambda$**"
   ]
  },
  {
   "cell_type": "code",
   "execution_count": 10,
   "id": "bde7b280-d156-45d9-9dc6-4de99a662953",
   "metadata": {},
   "outputs": [],
   "source": [
    "lbda = 1e-3\n",
    "res = optimize(lbda, x, y, m, n, 10)"
   ]
  },
  {
   "cell_type": "code",
   "execution_count": 11,
   "id": "795fdd10-2c87-4e2c-b8ae-4f4ca6183781",
   "metadata": {},
   "outputs": [],
   "source": [
    "psi_star = res[0]\n",
    "hist_loss = res[1]"
   ]
  },
  {
   "cell_type": "code",
   "execution_count": 12,
   "id": "cd0ca2e6-1c97-4e70-9310-adcd7c22b0ff",
   "metadata": {},
   "outputs": [
    {
     "data": {
      "image/png": "[encoded data removed]",
      "text/plain": [
       "<Figure size 350x262.5 with 1 Axes>"
      ]
     },
     "metadata": {},
     "output_type": "display_data"
    }
   ],
   "source": [
    "plt.plot(hist_loss, color = \"gray\", label = \"loss\")\n",
    "plt.legend()\n",
    "plt.show()"
   ]
  },
  {
   "cell_type": "code",
   "execution_count": 13,
   "id": "ecac1e30-9866-4a43-81f0-b9ce4a114850",
   "metadata": {},
   "outputs": [],
   "source": [
    "psi_star = res[0]"
   ]
  },
  {
   "cell_type": "markdown",
   "id": "577e61d5-095d-4f29-a941-d78fa10ace34",
   "metadata": {},
   "source": [
    "### Optimal transport plan"
   ]
  },
  {
   "cell_type": "markdown",
   "id": "499cbb39-f134-4003-82dd-018188a3a901",
   "metadata": {},
   "source": [
    "$$\n",
    "(P_{\\lambda}^{*})_{i,k} = \\mu_i \\dfrac{\\exp^{((\\psi_{\\lambda}^{*})_{k} - c_{i,k})/\\lambda}}\n",
    "{\\sum_{j=1}^{n} \\exp^{((\\psi_{\\lambda}^{*})_{j} - c_{i,j})/\\lambda}}\n",
    "$$"
   ]
  },
  {
   "cell_type": "code",
   "execution_count": 14,
   "id": "3821cc9c-8593-4312-82a7-5332e3eba405",
   "metadata": {},
   "outputs": [],
   "source": [
    "def optimal_transport_plan(psi_star, lbda, mu, nu, n):\n",
    "    P = np.zeros((n,m))\n",
    "    for i in range(n):\n",
    "        for k in range(m):\n",
    "            P[i,k] = mu[i] * math.exp((psi_star[k] - C[k, i]) / lbda)\n",
    "    return P"
   ]
  },
  {
   "cell_type": "code",
   "execution_count": 15,
   "id": "14e3a794-419d-429e-9dee-bc8146b00139",
   "metadata": {},
   "outputs": [],
   "source": [
    "P = optimal_transport_plan(psi_star, 0.1, x, y, n)"
   ]
  },
  {
   "cell_type": "code",
   "execution_count": 16,
   "id": "c04048f1-d01c-414b-9f8f-2ffa50226b9c",
   "metadata": {},
   "outputs": [],
   "source": [
    "P /= P.sum()"
   ]
  },
  {
   "cell_type": "code",
   "execution_count": 17,
   "id": "e1b8345e-0173-4594-a2fc-e66ba6bd3233",
   "metadata": {},
   "outputs": [
    {
     "data": {
      "image/png": "[encoded data removed]",
      "text/plain": [
       "<Figure size 400x400 with 1 Axes>"
      ]
     },
     "metadata": {},
     "output_type": "display_data"
    }
   ],
   "source": [
    "plt.matshow(P)\n",
    "plt.show()"
   ]
  },
  {
   "cell_type": "code",
   "execution_count": 18,
   "id": "67fc292e-efda-4529-82bd-19de443386a5",
   "metadata": {},
   "outputs": [
    {
     "data": {
      "image/png": "[encoded data removed]",
      "text/plain": [
       "<Figure size 350x262.5 with 1 Axes>"
      ]
     },
     "metadata": {},
     "output_type": "display_data"
    }
   ],
   "source": [
    "plt.fill(P.sum(1), color = \"silver\", label = r\"$T(\\nu)$\")\n",
    "plt.plot(x, color = \"blue\", label = r\"$\\mu$\")\n",
    "plt.legend()\n",
    "plt.show()"
   ]
  },
  {
   "cell_type": "code",
   "execution_count": null,
   "id": "e2fac5c4-702d-4f9f-8adf-15f857620634",
   "metadata": {},
   "outputs": [],
   "source": []
  }
 ],
 "metadata": {
  "kernelspec": {
   "display_name": "Python 3 (ipykernel)",
   "language": "python",
   "name": "python3"
  },
  "language_info": {
   "codemirror_mode": {
    "name": "ipython",
    "version": 3
   },
   "file_extension": ".py",
   "mimetype": "text/x-python",
   "name": "python",
   "nbconvert_exporter": "python",
   "pygments_lexer": "ipython3",
   "version": "3.11.5"
  }
 },
 "nbformat": 4,
 "nbformat_minor": 5
}
